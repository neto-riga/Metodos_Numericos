{
  "nbformat": 4,
  "nbformat_minor": 0,
  "metadata": {
    "colab": {
      "name": "Ejercicio 1 Error de Redondeo.ipynb",
      "provenance": [],
      "authorship_tag": "ABX9TyMYCmLaPCMwslDTH0F2Toru",
      "include_colab_link": true
    },
    "kernelspec": {
      "name": "python3",
      "display_name": "Python 3"
    },
    "language_info": {
      "name": "python"
    }
  },
  "cells": [
    {
      "cell_type": "markdown",
      "metadata": {
        "id": "view-in-github",
        "colab_type": "text"
      },
      "source": [
        "<a href=\"https://colab.research.google.com/github/neto-riga/Metodos_Numericos/blob/main/Ejercicio_1_Error_de_Redondeo.ipynb\" target=\"_parent\"><img src=\"https://colab.research.google.com/assets/colab-badge.svg\" alt=\"Open In Colab\"/></a>"
      ]
    },
    {
      "cell_type": "markdown",
      "metadata": {
        "id": "XGzO7EiuypCk"
      },
      "source": [
        "## [Regresar al ínidce](https://github.com/neto-riga/Metodos_Numericos/blob/main/Portafolio.md#índice)"
      ]
    },
    {
      "cell_type": "markdown",
      "metadata": {
        "id": "ciaISFhfytGZ"
      },
      "source": [
        "# Ejercicio 1. Error de Redondeo"
      ]
    },
    {
      "cell_type": "markdown",
      "metadata": {
        "id": "c6qhB897y1VW"
      },
      "source": [
        "## Sea una computadora con: B=2, 3 bits para el exponente (p) y 4 bits para la mantisa (q)\n",
        "\n",
        "- Crear el conjunto de números que pueden representar.\n",
        "\n",
        "Como p=3 y B=2, entonces el rango del exponente será: $e \\, \\in [-(2^{p-1}-1),2^{p-1}]==[-3,4]$\n",
        "\n",
        "Así, obtenemos con la mantisa el conjunto:\n"
      ]
    },
    {
      "cell_type": "code",
      "metadata": {
        "colab": {
          "base_uri": "https://localhost:8080/"
        },
        "id": "edOjbxGXygoH",
        "outputId": "7659718f-0ab4-4b43-ceb2-4e9e82e4a40a"
      },
      "source": [
        "q = 4\n",
        "p = 3\n",
        "mantisa = 2 ** (q-1)\n",
        "exponente = 2 ** (p-1)\n",
        "for exp in range(-exponente + 1, exponente):\n",
        "  for i, base in enumerate(range(mantisa)):\n",
        "    print(f\"0.{str(bin(8 + base))[2:]}^{exp}\", end='\\t')\n",
        "  print()"
      ],
      "execution_count": 12,
      "outputs": [
        {
          "output_type": "stream",
          "name": "stdout",
          "text": [
            "0.1000^-3\t0.1001^-3\t0.1010^-3\t0.1011^-3\t0.1100^-3\t0.1101^-3\t0.1110^-3\t0.1111^-3\t\n",
            "0.1000^-2\t0.1001^-2\t0.1010^-2\t0.1011^-2\t0.1100^-2\t0.1101^-2\t0.1110^-2\t0.1111^-2\t\n",
            "0.1000^-1\t0.1001^-1\t0.1010^-1\t0.1011^-1\t0.1100^-1\t0.1101^-1\t0.1110^-1\t0.1111^-1\t\n",
            "0.1000^0\t0.1001^0\t0.1010^0\t0.1011^0\t0.1100^0\t0.1101^0\t0.1110^0\t0.1111^0\t\n",
            "0.1000^1\t0.1001^1\t0.1010^1\t0.1011^1\t0.1100^1\t0.1101^1\t0.1110^1\t0.1111^1\t\n",
            "0.1000^2\t0.1001^2\t0.1010^2\t0.1011^2\t0.1100^2\t0.1101^2\t0.1110^2\t0.1111^2\t\n",
            "0.1000^3\t0.1001^3\t0.1010^3\t0.1011^3\t0.1100^3\t0.1101^3\t0.1110^3\t0.1111^3\t\n"
          ]
        }
      ]
    },
    {
      "cell_type": "markdown",
      "metadata": {
        "id": "5LQkG8I43OXK"
      },
      "source": [
        "- Indicar el número más grande y más pequeño que se pueden generar"
      ]
    },
    {
      "cell_type": "code",
      "metadata": {
        "colab": {
          "base_uri": "https://localhost:8080/"
        },
        "id": "x0otsdji3R7D",
        "outputId": "07e94096-8001-47b2-aa0d-ed7bc5a479bf"
      },
      "source": [
        "menor = 2 ** (-exponente + 1) * 1.5\n",
        "\n",
        "mantisa_mayor = 1\n",
        "for i in range(q):\n",
        "  mantisa_mayor += 2 ** (-(i+1))\n",
        "\n",
        "print(f\"El número menor será: {menor}\")\n",
        "print(f\"El número mayor será: {mantisa_mayor * 2 ** q}\")"
      ],
      "execution_count": 16,
      "outputs": [
        {
          "output_type": "stream",
          "name": "stdout",
          "text": [
            "El número menor será: 0.1875\n",
            "El número mayor será: 31.0\n"
          ]
        }
      ]
    },
    {
      "cell_type": "markdown",
      "metadata": {
        "id": "YKpv6IEW5sYk"
      },
      "source": [
        "## Sea una computadora con un tamaño de palabra de 12 bits y B=2: 1 bit del signo, 4 bits del exponente y 7 bits de la mantisa.\n",
        "\n",
        "- Determinar el rango del exponente.\n",
        "\n",
        "Como p=4 y B=2, entonces el rango del exponente será: $e \\, \\in [-(2^{p-1}-1),2^{p-1}]==[-7,8]$\n",
        "\n",
        "- Indicar el número más grande y el más pequeño que se pueda representar."
      ]
    },
    {
      "cell_type": "code",
      "metadata": {
        "colab": {
          "base_uri": "https://localhost:8080/"
        },
        "id": "iHLmdT8m6Gtl",
        "outputId": "f8c84ac0-e79a-4a3d-8ef2-f0a950eba9ed"
      },
      "source": [
        "menor = 2 ** (-7) * (1.5)\n",
        "\n",
        "mantisa_mayor = 1\n",
        "for i in range(7):\n",
        "  mantisa_mayor += 2 ** (-(i+1))\n",
        "\n",
        "print(f\"El número menor será: {menor}\")\n",
        "print(f\"El número mayor será: {mantisa_mayor * 2 ** 8}\")"
      ],
      "execution_count": 19,
      "outputs": [
        {
          "output_type": "stream",
          "name": "stdout",
          "text": [
            "El número menor será: 0.01171875\n",
            "El número mayor será: 510.0\n"
          ]
        }
      ]
    },
    {
      "cell_type": "markdown",
      "metadata": {
        "id": "78KwQIBc6r2M"
      },
      "source": [
        "## Determinar el número que representa el siguiente número máquina, además de los números anterior y posterior que pueden representarse"
      ]
    },
    {
      "cell_type": "markdown",
      "metadata": {
        "id": "jAXqfHz1NqY7"
      },
      "source": [
        "![image.png](data:image/png;base64,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)"
      ]
    },
    {
      "cell_type": "markdown",
      "metadata": {
        "id": "yiTpFAJrNxlh"
      },
      "source": [
        "- El número representado es:\n",
        "Notemos que p=7, entonces el rango del exponente será: $e \\in [-(2^{p-1}-1),2^{p-1}]==[-63,64]$\n",
        "\n",
        "Además,  $c=(1000010)_2=(66)_{10}$\n",
        "\n",
        "Por lo tanto $e=c-(2^6-1)=66-63=3$\n",
        "\n",
        "Y la mantisa será:"
      ]
    },
    {
      "cell_type": "code",
      "metadata": {
        "colab": {
          "base_uri": "https://localhost:8080/"
        },
        "id": "HSwuWYxQPAiE",
        "outputId": "4c43b838-d7ac-4e56-9706-980e21d5bfb3"
      },
      "source": [
        "mantisa = ( 2 ** (-1)\n",
        "          + 2 ** (-3)\n",
        "          + 2 ** (-4)\n",
        "          + 2 ** (-10))\n",
        "print(f\"El número representado es {2 ** 3 * (1 + mantisa)}\")"
      ],
      "execution_count": 1,
      "outputs": [
        {
          "output_type": "stream",
          "name": "stdout",
          "text": [
            "El número representado es 13.5078125\n"
          ]
        }
      ]
    },
    {
      "cell_type": "markdown",
      "metadata": {
        "id": "Eeyr1Tx7XBIm"
      },
      "source": [
        "- Calcular el número anterior:\n",
        "\n",
        "En la mantisa, el décimo lugar se convierte en cero y los lugares posteriores se convierten en 1. Se mantiene el exponente y el signo, por lo que obtenemos"
      ]
    },
    {
      "cell_type": "code",
      "metadata": {
        "colab": {
          "base_uri": "https://localhost:8080/"
        },
        "id": "rpynHQERXGKB",
        "outputId": "2c3e5012-6a05-438a-c3a2-fc7adfad5077"
      },
      "source": [
        "mantisa = ( 2 ** (-1)\n",
        "          + 2 ** (-3)\n",
        "          + 2 ** (-4))\n",
        "\n",
        "for i in range(11, 25):\n",
        "  mantisa += 2 ** (-i)\n",
        "\n",
        "print(f\"El número anterior es {2 ** 3 * (1+mantisa)}\")"
      ],
      "execution_count": 3,
      "outputs": [
        {
          "output_type": "stream",
          "name": "stdout",
          "text": [
            "El número anterior es 13.507812023162842\n"
          ]
        }
      ]
    },
    {
      "cell_type": "markdown",
      "metadata": {
        "id": "WseXWe_9X20m"
      },
      "source": [
        "- Calcular el número posterior.\n",
        "Ahora la mantisa mantiene la misma forma que la original, con la diferencia que el último bit también se convierte en 1, así"
      ]
    },
    {
      "cell_type": "code",
      "metadata": {
        "colab": {
          "base_uri": "https://localhost:8080/"
        },
        "id": "AZknC0OkYAmS",
        "outputId": "6796eb51-7fc9-4b9a-b73f-6eb5415f8419"
      },
      "source": [
        "mantisa = ( 2 ** (-1)\n",
        "          + 2 ** (-3)\n",
        "          + 2 ** (-4)\n",
        "          + 2 ** (-10)\n",
        "          + 2 ** (-24))\n",
        "\n",
        "print(f\"El número posterior es {2 ** 3 * (1+ mantisa)}\")"
      ],
      "execution_count": 4,
      "outputs": [
        {
          "output_type": "stream",
          "name": "stdout",
          "text": [
            "El número posterior es 13.507812976837158\n"
          ]
        }
      ]
    },
    {
      "cell_type": "markdown",
      "metadata": {
        "id": "qeQwJx5HywCN"
      },
      "source": [
        "## [Regresar al ínidce](https://github.com/neto-riga/Metodos_Numericos/blob/main/Portafolio.md#índice)"
      ]
    }
  ]
}