{
  "nbformat": 4,
  "nbformat_minor": 0,
  "metadata": {
    "colab": {
      "name": "Parcial2.ipynb",
      "provenance": [],
      "collapsed_sections": [
        "upg6Y1saL-N1",
        "ZQYVa2K9llk0",
        "7IoIZi0xli1n",
        "l12K44sUY2Mf",
        "NaB76lLFc_hj"
      ],
      "authorship_tag": "ABX9TyPFoeXSUxBOsYF/9lEEEE0P",
      "include_colab_link": true
    },
    "kernelspec": {
      "name": "python3",
      "display_name": "Python 3"
    },
    "language_info": {
      "name": "python"
    }
  },
  "cells": [
    {
      "cell_type": "markdown",
      "metadata": {
        "id": "view-in-github",
        "colab_type": "text"
      },
      "source": [
        "<a href=\"https://colab.research.google.com/github/neto-riga/SEMESTRE3/blob/main/Parcial2.ipynb\" target=\"_parent\"><img src=\"https://colab.research.google.com/assets/colab-badge.svg\" alt=\"Open In Colab\"/></a>"
      ]
    },
    {
      "cell_type": "markdown",
      "metadata": {
        "id": "279wZGy5Ly6B"
      },
      "source": [
        "# Librerías"
      ]
    },
    {
      "cell_type": "code",
      "metadata": {
        "id": "mWvzurM4L3nE"
      },
      "source": [
        "import numpy as np\n",
        "import pandas as pd\n",
        "from google.colab import output\n",
        "from sympy import Matrix\n",
        "from IPython.display import display"
      ],
      "execution_count": 1,
      "outputs": []
    },
    {
      "cell_type": "markdown",
      "metadata": {
        "id": "L43Qa0j7dKWz"
      },
      "source": [
        "# Sistemas de Ecuaciones\n",
        "---"
      ]
    },
    {
      "cell_type": "markdown",
      "metadata": {
        "id": "upg6Y1saL-N1"
      },
      "source": [
        "# Método de Intercambio"
      ]
    },
    {
      "cell_type": "markdown",
      "metadata": {
        "id": "TKdBr_oHMxI9"
      },
      "source": [
        "## Creamos el método"
      ]
    },
    {
      "cell_type": "code",
      "metadata": {
        "id": "ZlSViBXTMzqo"
      },
      "source": [
        "def intercambio(mat, n):\n",
        "  max = np.abs(mat).max()\n",
        "  filas, columnas = np.where(np.abs(mat) == max)\n",
        "  fila = filas[0]\n",
        "  columna = columnas[0]\n",
        "\n",
        "  mat[fila][columna] *= - 1\n",
        "  mat[fila] = - mat[fila].copy() / max\n",
        "\n",
        "  for i in range(n):\n",
        "    for j in range(n):\n",
        "      if i != fila and j != columna:\n",
        "        mat[i, j] += mat[fila, j] * mat[i, columna]\n",
        "\n",
        "  mat[:, columna] = mat[:, columna] / max  \n",
        "\n",
        "  return mat, fila, columna"
      ],
      "execution_count": 86,
      "outputs": []
    },
    {
      "cell_type": "markdown",
      "metadata": {
        "id": "c_-7IoSkMJhq"
      },
      "source": [
        "## Inicializamos Variables"
      ]
    },
    {
      "cell_type": "code",
      "metadata": {
        "colab": {
          "base_uri": "https://localhost:8080/",
          "height": 475
        },
        "id": "3tPNIITcMGfM",
        "outputId": "0652dea5-8e62-402a-b410-129e805c4a3b"
      },
      "source": [
        "n = 4\n",
        "mat = np.array([[1, 1, 1, 1],\n",
        "                [1, -2, -1, 2],\n",
        "                [1, -1, 2, 1],\n",
        "                [1, 3, 3, 2]], dtype=np.float)\n",
        "\n",
        "filas = []\n",
        "columnas = []\n",
        "for i in range(n):\n",
        "  mat, fila, columna = intercambio(mat, n)\n",
        "  filas.append(fila)\n",
        "  columnas.append(columna)\n",
        "\n",
        "  display(Matrix(mat).evalf(3))\n",
        "\n",
        "print(\"\\n\",filas, columnas, \"\\n\")\n",
        "\n",
        "for i, (fila, columna) in enumerate(zip(filas, columnas)):\n",
        "  if i%2 == 0:\n",
        "    mat[[fila, columna], :] = mat[[columna, fila], :]\n",
        "    mat[:,[fila, columna]] = mat[:,[columna, fila]]\n",
        "\n",
        "display(Matrix(mat).evalf(3))"
      ],
      "execution_count": 95,
      "outputs": [
        {
          "output_type": "display_data",
          "data": {
            "text/latex": "$\\displaystyle \\left[\\begin{matrix}0.667 & 0.333 & 0 & 0.333\\\\1.67 & -0.667 & 1.0 & 3.33\\\\1.33 & -0.333 & 3.0 & 1.67\\\\-0.333 & 0.333 & -1.0 & -0.667\\end{matrix}\\right]$",
            "text/plain": [
              "Matrix([\n",
              "[ 0.667,  0.333,    0,  0.333],\n",
              "[  1.67, -0.667,  1.0,   3.33],\n",
              "[  1.33, -0.333,  3.0,   1.67],\n",
              "[-0.333,  0.333, -1.0, -0.667]])"
            ]
          },
          "metadata": {}
        },
        {
          "output_type": "display_data",
          "data": {
            "text/latex": "$\\displaystyle \\left[\\begin{matrix}0.5 & 0.4 & -0.1 & 0.1\\\\-0.5 & 0.2 & -0.3 & 0.3\\\\0.5 & 0 & 2.5 & 0.5\\\\0 & 0.2 & -0.8 & -0.2\\end{matrix}\\right]$",
            "text/plain": [
              "Matrix([\n",
              "[ 0.5, 0.4, -0.1,  0.1],\n",
              "[-0.5, 0.2, -0.3,  0.3],\n",
              "[ 0.5,   0,  2.5,  0.5],\n",
              "[   0, 0.2, -0.8, -0.2]])"
            ]
          },
          "metadata": {}
        },
        {
          "output_type": "display_data",
          "data": {
            "text/latex": "$\\displaystyle \\left[\\begin{matrix}0.52 & 0.4 & -0.04 & 0.12\\\\-0.44 & 0.2 & -0.12 & 0.36\\\\-0.2 & 0 & 0.4 & -0.2\\\\0.16 & 0.2 & -0.32 & -0.04\\end{matrix}\\right]$",
            "text/plain": [
              "Matrix([\n",
              "[ 0.52, 0.4, -0.04,  0.12],\n",
              "[-0.44, 0.2, -0.12,  0.36],\n",
              "[ -0.2,   0,   0.4,  -0.2],\n",
              "[ 0.16, 0.2, -0.32, -0.04]])"
            ]
          },
          "metadata": {}
        },
        {
          "output_type": "display_data",
          "data": {
            "text/latex": "$\\displaystyle \\left[\\begin{matrix}1.92 & -0.769 & 0.0769 & -0.231\\\\-0.846 & 0.538 & -0.154 & 0.462\\\\-0.385 & 0.154 & 0.385 & -0.154\\\\0.308 & 0.0769 & -0.308 & -0.0769\\end{matrix}\\right]$",
            "text/plain": [
              "Matrix([\n",
              "[  1.92, -0.769, 0.0769,  -0.231],\n",
              "[-0.846,  0.538, -0.154,   0.462],\n",
              "[-0.385,  0.154,  0.385,  -0.154],\n",
              "[ 0.308, 0.0769, -0.308, -0.0769]])"
            ]
          },
          "metadata": {}
        },
        {
          "output_type": "stream",
          "name": "stdout",
          "text": [
            "\n",
            " [3, 1, 2, 0] [1, 3, 2, 0] \n",
            "\n"
          ]
        },
        {
          "output_type": "display_data",
          "data": {
            "text/latex": "$\\displaystyle \\left[\\begin{matrix}1.92 & -0.231 & 0.0769 & -0.769\\\\0.308 & -0.0769 & -0.308 & 0.0769\\\\-0.385 & -0.154 & 0.385 & 0.154\\\\-0.846 & 0.462 & -0.154 & 0.538\\end{matrix}\\right]$",
            "text/plain": [
              "Matrix([\n",
              "[  1.92,  -0.231, 0.0769, -0.769],\n",
              "[ 0.308, -0.0769, -0.308, 0.0769],\n",
              "[-0.385,  -0.154,  0.385,  0.154],\n",
              "[-0.846,   0.462, -0.154,  0.538]])"
            ]
          },
          "metadata": {}
        }
      ]
    },
    {
      "cell_type": "markdown",
      "metadata": {
        "id": "ZQYVa2K9llk0"
      },
      "source": [
        "# Cholesky"
      ]
    },
    {
      "cell_type": "markdown",
      "metadata": {
        "id": "NIPaQAReU2Oy"
      },
      "source": [
        "## LLenado de Matriz"
      ]
    },
    {
      "cell_type": "code",
      "metadata": {
        "id": "L2BXWteSthzT"
      },
      "source": [
        "def llenado_matriz(filas: int, columnas: int) -> np.ndarray:\n",
        "  m_temp = np.zeros((filas, columnas))\n",
        "\n",
        "  for i in range(filas):\n",
        "    for j in range(columnas):\n",
        "      m_temp[i, j] = float(input(f\"Ingrese el elemento [{i}][{j}]: \"))\n",
        "\n",
        "  while True:\n",
        "    output.clear()\n",
        "    print(f'Esta es tu matriz:\\n{m_temp}\\n')\n",
        "\n",
        "    resp = int(input('Presione 1 para continuar y 0 para corregir algún elemento: '))\n",
        "    if resp: break\n",
        "\n",
        "    output.clear()\n",
        "    fila = int(input('Ingrese la fila del elemento que desee cambiar: ')) - 1\n",
        "    col = int(input('Ingrese la columna del elemento que desee cambiar: ')) - 1\n",
        "    if fila > n or fila < 0 or col > n or col < 0:\n",
        "      print(\"Columna y/o fila inválida, intente de nuevo\")\n",
        "      input(\"Presione una tecla para continuar.\")\n",
        "    else:\n",
        "      m_temp[fila, col] = float(input(f'Ingrese el nuevo valor para el elemento [{fila + 1}][{col + 1}]: '))  \n",
        "\n",
        "  return m_temp"
      ],
      "execution_count": null,
      "outputs": []
    },
    {
      "cell_type": "markdown",
      "metadata": {
        "id": "vRNIb2McUveW"
      },
      "source": [
        "## Implementamos el método"
      ]
    },
    {
      "cell_type": "code",
      "metadata": {
        "id": "sNHzbPzose76"
      },
      "source": [
        "def cholesky(n: int, mat: np.ndarray) -> np.ndarray:\n",
        "  output.clear()\n",
        "\n",
        "  l = np.zeros((n, n))\n",
        "  for j in range(n):\n",
        "    for i in range(j, n):\n",
        "      l[i, j] = mat[i, j]\n",
        "      for k in range(j):\n",
        "        if i == j:\n",
        "          l[i, i] -= l[i, k] ** 2\n",
        "        else:\n",
        "          l[i, j] -= l[i, k] * l[j, k]\n",
        "\n",
        "      if i == j:\n",
        "        l[i, i] = np.sqrt(l[i, i])\n",
        "      else:\n",
        "        l[i, j] /= l[j, j]\n",
        "\n",
        "  return l"
      ],
      "execution_count": null,
      "outputs": []
    },
    {
      "cell_type": "markdown",
      "metadata": {
        "id": "NfaGuFBaVxQS"
      },
      "source": [
        "## Sustitución Hacia Adelante"
      ]
    },
    {
      "cell_type": "code",
      "metadata": {
        "id": "BtB1psDzV07Z"
      },
      "source": [
        "def sust_adelante(mat: np.ndarray, b: np.ndarray, n: int) -> np.ndarray:\n",
        "  adelante = np.zeros(n)\n",
        "  for i in range(n):\n",
        "    adelante[i] = b[i]\n",
        "    for j in range(i):\n",
        "      adelante[i] -= mat[i, j] * adelante[j]\n",
        "    \n",
        "    adelante[i] /= mat[i, i]\n",
        "\n",
        "  return adelante\n"
      ],
      "execution_count": 37,
      "outputs": []
    },
    {
      "cell_type": "markdown",
      "metadata": {
        "id": "HpHnOWuhZzkj"
      },
      "source": [
        "## Sustitución Hacía Atrás"
      ]
    },
    {
      "cell_type": "code",
      "metadata": {
        "id": "r6qpkGiEZ-pc"
      },
      "source": [
        "def sust_atras(mat: np.ndarray, b: np.ndarray, n:int) -> np.ndarray:\n",
        "  atras = np.zeros(n)\n",
        "  for i in range(1, n+1):\n",
        "    atras[-i] = b[-i]\n",
        "    for j in range(1, i):\n",
        "      atras[-i] -= mat[-i, -j] * atras[-j]\n",
        "    \n",
        "    atras[-i] /= mat[-i, -i]\n",
        "  \n",
        "  return atras"
      ],
      "execution_count": 38,
      "outputs": []
    },
    {
      "cell_type": "markdown",
      "metadata": {
        "id": "1cmsFqjjdob7"
      },
      "source": [
        "## Inicializamos Valores"
      ]
    },
    {
      "cell_type": "code",
      "metadata": {
        "id": "ZrlpRKfkyO67"
      },
      "source": [
        "# Para hacer pruebas\n",
        "n = 4\n",
        "\n",
        "mat = np.array([[6, 2, -1, 1],\n",
        "                [2, 4, 1, 0],\n",
        "                [-1, 1, 4, -1],\n",
        "                [1, 0, -1, 3]])\n",
        "\n",
        "b = np.array([17, 18, -3, 3])"
      ],
      "execution_count": null,
      "outputs": []
    },
    {
      "cell_type": "markdown",
      "metadata": {
        "id": "JaGjgqFSdu3A"
      },
      "source": [
        "## Main y Resultados"
      ]
    },
    {
      "cell_type": "code",
      "metadata": {
        "id": "ybKv6LnEssQt",
        "colab": {
          "base_uri": "https://localhost:8080/",
          "height": 132
        },
        "outputId": "cfe097b1-c230-45b4-a2fc-1c087057b47d"
      },
      "source": [
        "if __name__ == \"__main__\":\n",
        "  # n = int(input(\"Ingrese el tamaño de su matriz: \"))\n",
        "  # mat = llenado_matriz(n, n)\n",
        "  # b = llenado_matriz(1, n)\n",
        "  # input(\"Presiona enter para continuar....\")\n",
        "  # output.clear()\n",
        "  print(\"Con su matriz:\")\n",
        "  display(Matrix(mat))\n",
        "  print(\"\\nY su parte aumentada:\")\n",
        "  display(Matrix(b))\n",
        "  input(\"Presione enter para continuar...\")\n",
        "\n",
        "\n",
        "  l = Matrix(cholesky(n, mat))\n",
        "\n",
        "  print(\"La matriz L:\")\n",
        "  display(l.evalf(4))\n",
        "  input(\"Presiona enter para continuar...\")\n",
        "  output.clear()\n",
        "\n",
        "  a = sust_adelante(l, b, n)\n",
        "  sol = Matrix(sust_atras(l.T, a, n))\n",
        "\n",
        "  print(\"El vector solución:\")\n",
        "  display(sol.evalf(4))\n",
        "  input(\"Presiona enter para continuar...\")\n",
        "   "
      ],
      "execution_count": null,
      "outputs": [
        {
          "output_type": "stream",
          "name": "stdout",
          "text": [
            "El vector solución:\n"
          ]
        },
        {
          "output_type": "display_data",
          "data": {
            "text/latex": "$\\displaystyle \\left[\\begin{matrix}1.12\\\\4.32\\\\-1.52\\\\0.12\\end{matrix}\\right]$",
            "text/plain": [
              "Matrix([\n",
              "[ 1.12],\n",
              "[ 4.32],\n",
              "[-1.52],\n",
              "[ 0.12]])"
            ]
          },
          "metadata": {}
        },
        {
          "name": "stdout",
          "output_type": "stream",
          "text": [
            "Presiona enter para continuar...\n"
          ]
        }
      ]
    },
    {
      "cell_type": "markdown",
      "metadata": {
        "id": "7IoIZi0xli1n"
      },
      "source": [
        "# Jacobi"
      ]
    },
    {
      "cell_type": "markdown",
      "metadata": {
        "id": "omnXWLYrVWHy"
      },
      "source": [
        "## Método de Jacobi, implementación"
      ]
    },
    {
      "cell_type": "code",
      "metadata": {
        "id": "bTpgSHznTHcT"
      },
      "source": [
        "def jacobi(mat, b, n, x) -> np.ndarray:\n",
        "  aprox = np.zeros(n)\n",
        "\n",
        "  for i in range(n):\n",
        "    aprox[i] = b[i]\n",
        "    for j in range(n):\n",
        "      if i != j:\n",
        "        aprox[i] -= mat[i, j] * x[j]\n",
        "    \n",
        "    aprox[i] /= mat[i, i]\n",
        "\n",
        "  return aprox"
      ],
      "execution_count": null,
      "outputs": []
    },
    {
      "cell_type": "markdown",
      "metadata": {
        "id": "INoKysB3XiUM"
      },
      "source": [
        "## Calculamos el error espectral"
      ]
    },
    {
      "cell_type": "code",
      "metadata": {
        "id": "amA7AvsqXlCi"
      },
      "source": [
        "def error_espectral(x1: np.ndarray, x2:np.ndarray, n:int):\n",
        "  error = x2 - x1\n",
        "  mayor = 0\n",
        "  for i in range(n):\n",
        "    mayor = abs(error[i]) if abs(error[i]) > mayor else mayor\n",
        "\n",
        "  return mayor, error"
      ],
      "execution_count": 6,
      "outputs": []
    },
    {
      "cell_type": "markdown",
      "metadata": {
        "id": "6zZbfSrfW8wF"
      },
      "source": [
        "## Main"
      ]
    },
    {
      "cell_type": "code",
      "metadata": {
        "id": "qljqCSucW7Uk"
      },
      "source": [
        "def main_jacobi(mat, b, n):\n",
        "  sol_inicial = np.zeros(n) # Pedir el vector inicial en lugar de que sea el de ceros\n",
        "  \n",
        "  indice = []\n",
        "  for i in range(1, n+1):\n",
        "    indice.append(f'{i}')\n",
        "  indice.append('ε')\n",
        "\n",
        "  errores_df = pd.DataFrame(index=indice)\n",
        "  soluciones_df = pd.DataFrame(sol_inicial, columns={'x0'})\n",
        "\n",
        "  i = 1\n",
        "\n",
        "  x = jacobi(mat, b, n, sol_inicial)\n",
        "  soluciones_df[f'x{i}'] = x\n",
        "\n",
        "  error, error_arreglo = error_espectral(x, sol_inicial, n)\n",
        "  error = np.array([error])\n",
        "\n",
        "  errores_df[f'x{i}-x{i-1}'] = np.concatenate((error_arreglo, error), axis=0)\n",
        "\n",
        "  while error[0] > 0.0001:\n",
        "    i += 1\n",
        "    x1 = jacobi(mat, b, n, x)\n",
        "    error, error_arreglo = error_espectral(x1, x, n)\n",
        "    error = np.array([error])\n",
        "\n",
        "    soluciones_df[f'x{i}'] = x1\n",
        "    errores_df[f'x{i}-x{i-1}'] = np.concatenate((error_arreglo, error), axis=0)\n",
        "\n",
        "    x = x1.copy()\n",
        "\n",
        "  display(soluciones_df)\n",
        "  input(\"\\nPresiona enter para continuar...\")\n",
        "  output.clear()\n",
        "  display(errores_df)\n",
        "  input(\"\\nPresiona enter para continuar...\")\n"
      ],
      "execution_count": null,
      "outputs": []
    },
    {
      "cell_type": "markdown",
      "metadata": {
        "id": "4_u7dGwqT1vi"
      },
      "source": [
        "## Inizializamos las variables"
      ]
    },
    {
      "cell_type": "code",
      "metadata": {
        "colab": {
          "base_uri": "https://localhost:8080/",
          "height": 238
        },
        "id": "Eyf6VmevRZd7",
        "outputId": "ea00bbd0-a6f6-4d67-9e91-103bc6e42bab"
      },
      "source": [
        "n = 4\n",
        "\n",
        "mat = np.array([[10, -1, 2, 0],\n",
        "                [-1, 11, -1, 3],\n",
        "                [2, -1, 10, -1],\n",
        "                [0, 3, -1, 8]])\n",
        "\n",
        "b = np.array([6, 25, -11, 15])\n",
        "main_jacobi(mat, b, n)"
      ],
      "execution_count": null,
      "outputs": [
        {
          "output_type": "display_data",
          "data": {
            "text/html": [
              "<div>\n",
              "<style scoped>\n",
              "    .dataframe tbody tr th:only-of-type {\n",
              "        vertical-align: middle;\n",
              "    }\n",
              "\n",
              "    .dataframe tbody tr th {\n",
              "        vertical-align: top;\n",
              "    }\n",
              "\n",
              "    .dataframe thead th {\n",
              "        text-align: right;\n",
              "    }\n",
              "</style>\n",
              "<table border=\"1\" class=\"dataframe\">\n",
              "  <thead>\n",
              "    <tr style=\"text-align: right;\">\n",
              "      <th></th>\n",
              "      <th>x1-x0</th>\n",
              "      <th>x2-x1</th>\n",
              "      <th>x3-x2</th>\n",
              "      <th>x4-x3</th>\n",
              "      <th>x5-x4</th>\n",
              "      <th>x6-x5</th>\n",
              "      <th>x7-x6</th>\n",
              "      <th>x8-x7</th>\n",
              "      <th>x9-x8</th>\n",
              "      <th>x10-x9</th>\n",
              "      <th>x11-x10</th>\n",
              "      <th>x12-x11</th>\n",
              "      <th>x13-x12</th>\n",
              "    </tr>\n",
              "  </thead>\n",
              "  <tbody>\n",
              "    <tr>\n",
              "      <th>1</th>\n",
              "      <td>-0.600000</td>\n",
              "      <td>-0.447273</td>\n",
              "      <td>0.114636</td>\n",
              "      <td>-0.082562</td>\n",
              "      <td>0.026207</td>\n",
              "      <td>-0.014207</td>\n",
              "      <td>0.005070</td>\n",
              "      <td>-0.002497</td>\n",
              "      <td>0.000951</td>\n",
              "      <td>-0.000444</td>\n",
              "      <td>0.000176</td>\n",
              "      <td>-0.000080</td>\n",
              "      <td>0.000032</td>\n",
              "    </tr>\n",
              "    <tr>\n",
              "      <th>2</th>\n",
              "      <td>-2.272727</td>\n",
              "      <td>0.556818</td>\n",
              "      <td>-0.337397</td>\n",
              "      <td>0.099610</td>\n",
              "      <td>-0.057719</td>\n",
              "      <td>0.019173</td>\n",
              "      <td>-0.010066</td>\n",
              "      <td>0.003637</td>\n",
              "      <td>-0.001777</td>\n",
              "      <td>0.000680</td>\n",
              "      <td>-0.000317</td>\n",
              "      <td>0.000126</td>\n",
              "      <td>-0.000057</td>\n",
              "    </tr>\n",
              "    <tr>\n",
              "      <th>3</th>\n",
              "      <td>1.100000</td>\n",
              "      <td>-0.294773</td>\n",
              "      <td>0.244114</td>\n",
              "      <td>-0.081232</td>\n",
              "      <td>0.042177</td>\n",
              "      <td>-0.015764</td>\n",
              "      <td>0.007450</td>\n",
              "      <td>-0.002937</td>\n",
              "      <td>0.001334</td>\n",
              "      <td>-0.000541</td>\n",
              "      <td>0.000240</td>\n",
              "      <td>-0.000099</td>\n",
              "      <td>0.000043</td>\n",
              "    </tr>\n",
              "    <tr>\n",
              "      <th>4</th>\n",
              "      <td>-1.875000</td>\n",
              "      <td>0.989773</td>\n",
              "      <td>-0.245653</td>\n",
              "      <td>0.157038</td>\n",
              "      <td>-0.047508</td>\n",
              "      <td>0.026917</td>\n",
              "      <td>-0.009161</td>\n",
              "      <td>0.004706</td>\n",
              "      <td>-0.001731</td>\n",
              "      <td>0.000833</td>\n",
              "      <td>-0.000323</td>\n",
              "      <td>0.000149</td>\n",
              "      <td>-0.000060</td>\n",
              "    </tr>\n",
              "    <tr>\n",
              "      <th>ε</th>\n",
              "      <td>2.272727</td>\n",
              "      <td>0.989773</td>\n",
              "      <td>0.337397</td>\n",
              "      <td>0.157038</td>\n",
              "      <td>0.057719</td>\n",
              "      <td>0.026917</td>\n",
              "      <td>0.010066</td>\n",
              "      <td>0.004706</td>\n",
              "      <td>0.001777</td>\n",
              "      <td>0.000833</td>\n",
              "      <td>0.000323</td>\n",
              "      <td>0.000149</td>\n",
              "      <td>0.000060</td>\n",
              "    </tr>\n",
              "  </tbody>\n",
              "</table>\n",
              "</div>"
            ],
            "text/plain": [
              "      x1-x0     x2-x1     x3-x2  ...   x11-x10   x12-x11   x13-x12\n",
              "1 -0.600000 -0.447273  0.114636  ...  0.000176 -0.000080  0.000032\n",
              "2 -2.272727  0.556818 -0.337397  ... -0.000317  0.000126 -0.000057\n",
              "3  1.100000 -0.294773  0.244114  ...  0.000240 -0.000099  0.000043\n",
              "4 -1.875000  0.989773 -0.245653  ... -0.000323  0.000149 -0.000060\n",
              "ε  2.272727  0.989773  0.337397  ...  0.000323  0.000149  0.000060\n",
              "\n",
              "[5 rows x 13 columns]"
            ]
          },
          "metadata": {}
        },
        {
          "name": "stdout",
          "output_type": "stream",
          "text": [
            "\n",
            "Presiona enter para continuar...\n"
          ]
        }
      ]
    },
    {
      "cell_type": "markdown",
      "metadata": {
        "id": "l12K44sUY2Mf"
      },
      "source": [
        "# Método de Gauss-Seidel"
      ]
    },
    {
      "cell_type": "code",
      "metadata": {
        "id": "udlIyIKfY33E"
      },
      "source": [
        "def seidel(mat, b, n, x):\n",
        "  for i in range(n):\n",
        "    x[i] = b[i]\n",
        "    for j in range(n):\n",
        "      if i != j:\n",
        "        x[i] -= mat[i, j] * x[j]\n",
        "    \n",
        "    x[i] /= mat[i, i]\n",
        "  \n",
        "  return x"
      ],
      "execution_count": 2,
      "outputs": []
    },
    {
      "cell_type": "markdown",
      "metadata": {
        "id": "B4GHSs2ybVm7"
      },
      "source": [
        "## Inizializando Variables"
      ]
    },
    {
      "cell_type": "code",
      "metadata": {
        "colab": {
          "base_uri": "https://localhost:8080/",
          "height": 256
        },
        "id": "ew2iQ5wJZluI",
        "outputId": "29efc04b-0cfc-46eb-a7d6-4623c431aeb3"
      },
      "source": [
        "n = 4\n",
        "\n",
        "mat = np.array([[10, -1, 2, 0],\n",
        "                [-1, 11, -1, 3],\n",
        "                [2, -1, 10, -1],\n",
        "                [0, 3, -1, 8]])\n",
        "\n",
        "b = np.array([6, 25, -11, 15])\n",
        "\n",
        "sol_inicial = np.zeros(n) # Pedir el vector inicial en lugar de que sea el de ceros\n",
        "\n",
        "indice = []\n",
        "for i in range(1, n+1):\n",
        "  indice.append(f'{i}')\n",
        "indice.append('ε')\n",
        "\n",
        "errores_df = pd.DataFrame(index=indice)\n",
        "soluciones_df = pd.DataFrame(sol_inicial, columns={'x0'})\n",
        "\n",
        "i = 1\n",
        "\n",
        "x = seidel(mat, b, n, sol_inicial.copy())\n",
        "soluciones_df[f'x{i}'] = x\n",
        "\n",
        "error, error_arreglo = error_espectral(x, sol_inicial, n)\n",
        "error = np.array([error])\n",
        "\n",
        "errores_df[f'x{i}-x{i-1}'] = np.concatenate((error_arreglo, error), axis=0)\n",
        "\n",
        "while error[0] > 0.0001:\n",
        "  i += 1\n",
        "  x1 = seidel(mat, b, n, x.copy())\n",
        "  error, error_arreglo = error_espectral(x1, x, n)\n",
        "  error = np.array([error])\n",
        "\n",
        "  soluciones_df[f'x{i}'] = x1\n",
        "  errores_df[f'x{i}-x{i-1}'] = np.concatenate((error_arreglo, error), axis=0)\n",
        "\n",
        "  x = x1.copy()\n",
        "\n",
        "display(soluciones_df)\n",
        "input(\"\\nPresiona enter para continuar...\")\n",
        "output.clear()\n",
        "display(errores_df)\n",
        "input(\"\\nPresiona enter para continuar...\")"
      ],
      "execution_count": 12,
      "outputs": [
        {
          "output_type": "display_data",
          "data": {
            "text/html": [
              "<div>\n",
              "<style scoped>\n",
              "    .dataframe tbody tr th:only-of-type {\n",
              "        vertical-align: middle;\n",
              "    }\n",
              "\n",
              "    .dataframe tbody tr th {\n",
              "        vertical-align: top;\n",
              "    }\n",
              "\n",
              "    .dataframe thead th {\n",
              "        text-align: right;\n",
              "    }\n",
              "</style>\n",
              "<table border=\"1\" class=\"dataframe\">\n",
              "  <thead>\n",
              "    <tr style=\"text-align: right;\">\n",
              "      <th></th>\n",
              "      <th>x1-x0</th>\n",
              "      <th>x2-x1</th>\n",
              "      <th>x3-x2</th>\n",
              "      <th>x4-x3</th>\n",
              "      <th>x5-x4</th>\n",
              "      <th>x6-x5</th>\n",
              "    </tr>\n",
              "  </thead>\n",
              "  <tbody>\n",
              "    <tr>\n",
              "      <th>1</th>\n",
              "      <td>-0.600000</td>\n",
              "      <td>-0.430182</td>\n",
              "      <td>0.023597</td>\n",
              "      <td>0.005724</td>\n",
              "      <td>0.000770</td>\n",
              "      <td>0.000083</td>\n",
              "    </tr>\n",
              "    <tr>\n",
              "      <th>2</th>\n",
              "      <td>-2.327273</td>\n",
              "      <td>0.290335</td>\n",
              "      <td>0.033383</td>\n",
              "      <td>0.003257</td>\n",
              "      <td>0.000277</td>\n",
              "      <td>0.000020</td>\n",
              "    </tr>\n",
              "    <tr>\n",
              "      <th>3</th>\n",
              "      <td>0.987273</td>\n",
              "      <td>0.027183</td>\n",
              "      <td>-0.011929</td>\n",
              "      <td>-0.002220</td>\n",
              "      <td>-0.000276</td>\n",
              "      <td>-0.000028</td>\n",
              "    </tr>\n",
              "    <tr>\n",
              "      <th>4</th>\n",
              "      <td>-0.878864</td>\n",
              "      <td>-0.105478</td>\n",
              "      <td>-0.014010</td>\n",
              "      <td>-0.001499</td>\n",
              "      <td>-0.000138</td>\n",
              "      <td>-0.000011</td>\n",
              "    </tr>\n",
              "    <tr>\n",
              "      <th>ε</th>\n",
              "      <td>2.327273</td>\n",
              "      <td>0.430182</td>\n",
              "      <td>0.033383</td>\n",
              "      <td>0.005724</td>\n",
              "      <td>0.000770</td>\n",
              "      <td>0.000083</td>\n",
              "    </tr>\n",
              "  </tbody>\n",
              "</table>\n",
              "</div>"
            ],
            "text/plain": [
              "      x1-x0     x2-x1     x3-x2     x4-x3     x5-x4     x6-x5\n",
              "1 -0.600000 -0.430182  0.023597  0.005724  0.000770  0.000083\n",
              "2 -2.327273  0.290335  0.033383  0.003257  0.000277  0.000020\n",
              "3  0.987273  0.027183 -0.011929 -0.002220 -0.000276 -0.000028\n",
              "4 -0.878864 -0.105478 -0.014010 -0.001499 -0.000138 -0.000011\n",
              "ε  2.327273  0.430182  0.033383  0.005724  0.000770  0.000083"
            ]
          },
          "metadata": {}
        },
        {
          "name": "stdout",
          "output_type": "stream",
          "text": [
            "\n",
            "Presiona enter para continuar...\n"
          ]
        },
        {
          "output_type": "execute_result",
          "data": {
            "application/vnd.google.colaboratory.intrinsic+json": {
              "type": "string"
            },
            "text/plain": [
              "''"
            ]
          },
          "metadata": {},
          "execution_count": 12
        }
      ]
    },
    {
      "cell_type": "markdown",
      "metadata": {
        "id": "wK1FB8KCc6tz"
      },
      "source": [
        "# Factorización de Matrices\n",
        "---"
      ]
    },
    {
      "cell_type": "markdown",
      "metadata": {
        "id": "NaB76lLFc_hj"
      },
      "source": [
        "# Método de Doolittle"
      ]
    },
    {
      "cell_type": "code",
      "metadata": {
        "id": "Y9Pt9dAODy4p"
      },
      "source": [
        "def cambioU_doo(m, l, u, iter):\n",
        "  for i in range(iter, n):\n",
        "    u[iter, i] = m[iter, i]\n",
        "    for j in range(iter):\n",
        "      u[iter, i] -= l[iter, j] * m[j, i]"
      ],
      "execution_count": 33,
      "outputs": []
    },
    {
      "cell_type": "code",
      "metadata": {
        "id": "2KskkT_wJIAp"
      },
      "source": [
        "def cambioL_doo(m, l, u, iter):\n",
        "  for i in range(iter + 1, n):\n",
        "    l[i, iter] = m[i, iter]\n",
        "    for j in range(iter):\n",
        "      l[i, iter] -= l[i, j] * m[j, iter]\n",
        "\n",
        "    l[i, iter] /= u[iter, iter]"
      ],
      "execution_count": 34,
      "outputs": []
    },
    {
      "cell_type": "code",
      "metadata": {
        "id": "IZmkfloKQHZt"
      },
      "source": [
        "def doolittle(mat, b, n):\n",
        "  L = np.eye(n)\n",
        "  U = np.zeros((n, n))\n",
        "  for i in range(n):\n",
        "    cambioU_doo(mat, L, U, i)\n",
        "    if i != (n-1):\n",
        "      cambioL_doo(mat, L, U, i)\n",
        "  \n",
        "  return L, U"
      ],
      "execution_count": 35,
      "outputs": []
    },
    {
      "cell_type": "code",
      "metadata": {
        "colab": {
          "base_uri": "https://localhost:8080/",
          "height": 295
        },
        "id": "iaMAuRNteZS_",
        "outputId": "92149e3d-72f0-4230-eae8-8fe63158e466"
      },
      "source": [
        "n = 4\n",
        "mat = np.array([[6, 2, 1, -1],\n",
        "              [2, 4, 1, 0],\n",
        "              [1, 1, 4, -1],\n",
        "              [-1, 0, -1, 3]])\n",
        "\n",
        "b = np.array([-4, 9, 6, -2])\n",
        "\n",
        "low, up = doolittle(mat, b, n)\n",
        "\n",
        "display(Matrix(low).evalf(3))\n",
        "print(\"\")\n",
        "display(Matrix(up).evalf(3))\n",
        "print(\"\")\n",
        "\n",
        "temp = sust_adelante(low, b, n)\n",
        "sol = sust_atras(up, b, n)\n",
        "display(Matrix(sol).evalf(3))"
      ],
      "execution_count": 42,
      "outputs": [
        {
          "output_type": "display_data",
          "data": {
            "text/latex": "$\\displaystyle \\left[\\begin{matrix}1.0 & 0 & 0 & 0\\\\0.333 & 1.0 & 0 & 0\\\\0.167 & 0.2 & 1.0 & 0\\\\-0.167 & 0.1 & -0.257 & 1.0\\end{matrix}\\right]$",
            "text/plain": [
              "Matrix([\n",
              "[   1.0,   0,      0,   0],\n",
              "[ 0.333, 1.0,      0,   0],\n",
              "[ 0.167, 0.2,    1.0,   0],\n",
              "[-0.167, 0.1, -0.257, 1.0]])"
            ]
          },
          "metadata": {}
        },
        {
          "output_type": "stream",
          "name": "stdout",
          "text": [
            "\n"
          ]
        },
        {
          "output_type": "display_data",
          "data": {
            "text/latex": "$\\displaystyle \\left[\\begin{matrix}6.0 & 2.0 & 1.0 & -1.0\\\\0 & 3.33 & 0.667 & 0.333\\\\0 & 0 & 3.63 & -0.833\\\\0 & 0 & 0 & 2.58\\end{matrix}\\right]$",
            "text/plain": [
              "Matrix([\n",
              "[6.0,  2.0,   1.0,   -1.0],\n",
              "[  0, 3.33, 0.667,  0.333],\n",
              "[  0,    0,  3.63, -0.833],\n",
              "[  0,    0,     0,   2.58]])"
            ]
          },
          "metadata": {}
        },
        {
          "output_type": "stream",
          "name": "stdout",
          "text": [
            "\n"
          ]
        },
        {
          "output_type": "display_data",
          "data": {
            "text/latex": "$\\displaystyle \\left[\\begin{matrix}-1.87\\\\2.48\\\\1.47\\\\-0.776\\end{matrix}\\right]$",
            "text/plain": [
              "Matrix([\n",
              "[ -1.87],\n",
              "[  2.48],\n",
              "[  1.47],\n",
              "[-0.776]])"
            ]
          },
          "metadata": {}
        }
      ]
    }
  ]
}