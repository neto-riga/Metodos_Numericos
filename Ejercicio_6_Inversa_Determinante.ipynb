{
  "nbformat": 4,
  "nbformat_minor": 0,
  "metadata": {
    "colab": {
      "name": "Ejercicio_6_Inversa_Determinante.ipynb",
      "provenance": [],
      "authorship_tag": "ABX9TyPId3c5vbXgSxFADMteDz1v",
      "include_colab_link": true
    },
    "kernelspec": {
      "name": "python3",
      "display_name": "Python 3"
    },
    "language_info": {
      "name": "python"
    }
  },
  "cells": [
    {
      "cell_type": "markdown",
      "metadata": {
        "id": "view-in-github",
        "colab_type": "text"
      },
      "source": [
        "<a href=\"https://colab.research.google.com/github/neto-riga/Metodos_Numericos/blob/main/Ejercicio_6_Inversa_Determinante.ipynb\" target=\"_parent\"><img src=\"https://colab.research.google.com/assets/colab-badge.svg\" alt=\"Open In Colab\"/></a>"
      ]
    },
    {
      "cell_type": "markdown",
      "metadata": {
        "id": "_--C-Y-HWHei"
      },
      "source": [
        "## [Regresar al ínidce](https://github.com/neto-riga/Metodos_Numericos/blob/main/Portafolio.md#índice)"
      ]
    },
    {
      "cell_type": "markdown",
      "metadata": {
        "id": "oCqmnzFuASdK"
      },
      "source": [
        "# Ejercicio 6. Inversa/Determinante"
      ]
    },
    {
      "cell_type": "markdown",
      "metadata": {
        "id": "oXhp-B59AiNW"
      },
      "source": [
        "Sea la siguiente matriz:\n",
        "$$A=\\begin{bmatrix}\n",
        " 1& 4&-2& 0\\\\\n",
        "-3&-2& 0& 1\\\\\n",
        " 3& 2& 1&-1\\\\\n",
        " 2&-2& 3& 4\n",
        "\\end{bmatrix}$$\n",
        "Obtener \n",
        "\n",
        "- Matriz de menores\n",
        "- Matriz de cofactores\n",
        "- Determinante\n",
        "- Matriz Adjunta\n",
        "- Matriz inversa"
      ]
    },
    {
      "cell_type": "code",
      "metadata": {
        "id": "_0ZjpxXoAaWj"
      },
      "source": [
        "import numpy as np\n",
        "from sympy import Matrix"
      ],
      "execution_count": null,
      "outputs": []
    },
    {
      "cell_type": "code",
      "metadata": {
        "id": "XwhwLWz_Ab_u"
      },
      "source": [
        "A = np.array([[1, 4, -2, 0],\n",
        "              [-3, -2, 0, 1],\n",
        "              [3, 2, 1, -1],\n",
        "              [2, -2, 3, 4]])\n",
        "n = 4"
      ],
      "execution_count": null,
      "outputs": []
    },
    {
      "cell_type": "markdown",
      "metadata": {
        "id": "77tQi-brBE2r"
      },
      "source": [
        "## Matriz de Menores"
      ]
    },
    {
      "cell_type": "code",
      "metadata": {
        "id": "7s8NGkeqA_Dx"
      },
      "source": [
        "def minor_ij(A, i, j):\n",
        "  temp = np.ones_like(A, dtype=bool)\n",
        "  temp[i, :] = False\n",
        "  temp[:, j] = False\n",
        "\n",
        "  menor = A[temp].reshape(A.shape[0] - 1, A.shape[1] - 1)\n",
        "\n",
        "  del temp\n",
        "  \n",
        "  return np.linalg.det(menor) "
      ],
      "execution_count": null,
      "outputs": []
    },
    {
      "cell_type": "code",
      "metadata": {
        "colab": {
          "base_uri": "https://localhost:8080/",
          "height": 98
        },
        "id": "4grgYwh5CjmK",
        "outputId": "9008bbb9-61e6-416f-f720-a957e3b66067"
      },
      "source": [
        "menor_matriz = np.zeros_like(A)\n",
        "for i in range(n):\n",
        "  for j in range(n):\n",
        "    menor_matriz[i, j] = minor_ij(A, i, j)\n",
        "\n",
        "Matrix(menor_matriz).evalf(3)"
      ],
      "execution_count": null,
      "outputs": [
        {
          "output_type": "execute_result",
          "data": {
            "text/latex": "$\\displaystyle \\left[\\begin{matrix}-6.0 & -14.0 & 0 & -10.0\\\\39.0 & 35.0 & -50.0 & 0\\\\-23.0 & -31.0 & 50.0 & 10.0\\\\-3.0 & -1.0 & 0 & 10.0\\end{matrix}\\right]$",
            "text/plain": [
              "Matrix([\n",
              "[ -6.0, -14.0,     0, -10.0],\n",
              "[ 39.0,  35.0, -50.0,     0],\n",
              "[-23.0, -31.0,  50.0,  10.0],\n",
              "[ -3.0,  -1.0,     0,  10.0]])"
            ]
          },
          "metadata": {},
          "execution_count": 9
        }
      ]
    },
    {
      "cell_type": "markdown",
      "metadata": {
        "id": "4ncp3qSKD3Ua"
      },
      "source": [
        "## Matriz de Cofactores"
      ]
    },
    {
      "cell_type": "code",
      "metadata": {
        "colab": {
          "base_uri": "https://localhost:8080/",
          "height": 98
        },
        "id": "ACmRIv44D6nk",
        "outputId": "fc765be3-7d83-4d16-dca6-98abb7cb55ea"
      },
      "source": [
        "cof_matriz = menor_matriz.copy()\n",
        "for i in range(n):\n",
        "  for j in range(n):\n",
        "    if (i+j)%2:\n",
        "      cof_matriz[i, j] *= -1\n",
        "\n",
        "Matrix(cof_matriz).evalf(3)"
      ],
      "execution_count": null,
      "outputs": [
        {
          "output_type": "execute_result",
          "data": {
            "text/latex": "$\\displaystyle \\left[\\begin{matrix}-6.0 & 14.0 & 0 & 10.0\\\\-39.0 & 35.0 & 50.0 & 0\\\\-23.0 & 31.0 & 50.0 & -10.0\\\\3.0 & -1.0 & 0 & 10.0\\end{matrix}\\right]$",
            "text/plain": [
              "Matrix([\n",
              "[ -6.0, 14.0,    0,  10.0],\n",
              "[-39.0, 35.0, 50.0,     0],\n",
              "[-23.0, 31.0, 50.0, -10.0],\n",
              "[  3.0, -1.0,    0,  10.0]])"
            ]
          },
          "metadata": {},
          "execution_count": 19
        }
      ]
    },
    {
      "cell_type": "markdown",
      "metadata": {
        "id": "Cw2e7yVfE2pM"
      },
      "source": [
        "## Determinante"
      ]
    },
    {
      "cell_type": "code",
      "metadata": {
        "colab": {
          "base_uri": "https://localhost:8080/"
        },
        "id": "Uo8pxWB3EQfj",
        "outputId": "2ca4bae9-1e3d-44bd-bdf5-bc68d2db07e2"
      },
      "source": [
        "det = np.linalg.det(A)\n",
        "print(f\"El determinante es: {det :.4g}\")"
      ],
      "execution_count": null,
      "outputs": [
        {
          "output_type": "stream",
          "name": "stdout",
          "text": [
            "El determinante es: 50\n"
          ]
        }
      ]
    },
    {
      "cell_type": "markdown",
      "metadata": {
        "id": "1MDwCl3sFGmT"
      },
      "source": [
        "## Matriz Adjunta"
      ]
    },
    {
      "cell_type": "code",
      "metadata": {
        "colab": {
          "base_uri": "https://localhost:8080/",
          "height": 98
        },
        "id": "1-48SiNRFLCH",
        "outputId": "bf15e7ef-5afe-4ec9-cc80-8026232efb09"
      },
      "source": [
        "Matrix(cof_matriz.T).evalf(3)"
      ],
      "execution_count": null,
      "outputs": [
        {
          "output_type": "execute_result",
          "data": {
            "text/latex": "$\\displaystyle \\left[\\begin{matrix}-6.0 & -39.0 & -23.0 & 3.0\\\\14.0 & 35.0 & 31.0 & -1.0\\\\0 & 50.0 & 50.0 & 0\\\\10.0 & 0 & -10.0 & 10.0\\end{matrix}\\right]$",
            "text/plain": [
              "Matrix([\n",
              "[-6.0, -39.0, -23.0,  3.0],\n",
              "[14.0,  35.0,  31.0, -1.0],\n",
              "[   0,  50.0,  50.0,    0],\n",
              "[10.0,     0, -10.0, 10.0]])"
            ]
          },
          "metadata": {},
          "execution_count": 21
        }
      ]
    },
    {
      "cell_type": "markdown",
      "metadata": {
        "id": "-KXLlGlXFfCl"
      },
      "source": [
        "## Matriz Inversa"
      ]
    },
    {
      "cell_type": "code",
      "metadata": {
        "colab": {
          "base_uri": "https://localhost:8080/",
          "height": 98
        },
        "id": "SZHrcVXiFgJ8",
        "outputId": "d320e53e-18c4-4e7b-d375-e39165d7ce97"
      },
      "source": [
        "Matrix(cof_matriz.T / det).evalf(6)"
      ],
      "execution_count": null,
      "outputs": [
        {
          "output_type": "execute_result",
          "data": {
            "text/latex": "$\\displaystyle \\left[\\begin{matrix}-0.12 & -0.78 & -0.46 & 0.06\\\\0.28 & 0.7 & 0.62 & -0.02\\\\0 & 1.0 & 1.0 & 0\\\\0.2 & 0 & -0.2 & 0.2\\end{matrix}\\right]$",
            "text/plain": [
              "Matrix([\n",
              "[-0.12, -0.78, -0.46,  0.06],\n",
              "[ 0.28,   0.7,  0.62, -0.02],\n",
              "[    0,   1.0,   1.0,     0],\n",
              "[  0.2,     0,  -0.2,   0.2]])"
            ]
          },
          "metadata": {},
          "execution_count": 22
        }
      ]
    },
    {
      "cell_type": "markdown",
      "metadata": {
        "id": "svvQ_jQWWJI5"
      },
      "source": [
        "## [Regresar al ínidce](https://github.com/neto-riga/Metodos_Numericos/blob/main/Portafolio.md#índice)"
      ]
    }
  ]
}