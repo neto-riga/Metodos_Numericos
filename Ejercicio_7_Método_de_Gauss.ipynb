{
  "nbformat": 4,
  "nbformat_minor": 0,
  "metadata": {
    "colab": {
      "name": "Ejercicio 7 Método de Gauss.ipynb",
      "provenance": [],
      "authorship_tag": "ABX9TyMpR6YTF/hgAJUDpxHzIYXQ",
      "include_colab_link": true
    },
    "kernelspec": {
      "name": "python3",
      "display_name": "Python 3"
    },
    "language_info": {
      "name": "python"
    }
  },
  "cells": [
    {
      "cell_type": "markdown",
      "metadata": {
        "id": "view-in-github",
        "colab_type": "text"
      },
      "source": [
        "<a href=\"https://colab.research.google.com/github/neto-riga/Metodos_Numericos/blob/main/Ejercicio_7_M%C3%A9todo_de_Gauss.ipynb\" target=\"_parent\"><img src=\"https://colab.research.google.com/assets/colab-badge.svg\" alt=\"Open In Colab\"/></a>"
      ]
    },
    {
      "cell_type": "markdown",
      "metadata": {
        "id": "afd0gA9VWV8t"
      },
      "source": [
        "## [Regresar al ínidce](https://github.com/neto-riga/Metodos_Numericos/blob/main/Portafolio.md#índice)"
      ]
    },
    {
      "cell_type": "markdown",
      "metadata": {
        "id": "W1HIKfifGYbO"
      },
      "source": [
        "# Método de Gauss"
      ]
    },
    {
      "cell_type": "markdown",
      "metadata": {
        "id": "QSgFWoEeGqHF"
      },
      "source": [
        "Crearemos un algoritmo capaz de convertir la matriz cuadrada en una triangular superior, para después calcular el determinante."
      ]
    },
    {
      "cell_type": "code",
      "metadata": {
        "id": "JaQP7gaTGSQB"
      },
      "source": [
        "import numpy as np\n",
        "from sympy import Matrix\n",
        "from IPython.display import display"
      ],
      "execution_count": null,
      "outputs": []
    },
    {
      "cell_type": "code",
      "metadata": {
        "id": "c3-HZWAUGhUf"
      },
      "source": [
        "def gauss(mat, n, b):\n",
        "  for j in range(n):\n",
        "    for i in range(j+1, n):\n",
        "      var = - mat[i, j] / mat[j, j]\n",
        "      mat[i, :] = var * mat[j, :] + mat[i, :]\n",
        "      b[i] = var * b[j] + b[i]\n",
        "  return mat, b"
      ],
      "execution_count": null,
      "outputs": []
    },
    {
      "cell_type": "code",
      "metadata": {
        "id": "BaTSQY2WG9rt"
      },
      "source": [
        "def determinante(triangular, n):\n",
        "  det = 1\n",
        "  for i in range(n):\n",
        "    det *= triangular[i, i]\n",
        "\n",
        "  return det"
      ],
      "execution_count": null,
      "outputs": []
    },
    {
      "cell_type": "markdown",
      "metadata": {
        "id": "WecYgutZHLns"
      },
      "source": [
        "## Realizando una muestra"
      ]
    },
    {
      "cell_type": "code",
      "metadata": {
        "colab": {
          "base_uri": "https://localhost:8080/"
        },
        "id": "LPG8IVkKHOnQ",
        "outputId": "0c80754d-c5df-4bff-cea5-b41fdf0da10f"
      },
      "source": [
        "n = 4\n",
        "mat = np.array([[1, 0, -4, -1],\n",
        "                [-5, -1, 2, 1],\n",
        "                [1, 0.5, 1, -2],\n",
        "                [-3, -1, 1, 6]])\n",
        "\n",
        "b = np.array([-15, 2, 2.5, 7])\n",
        "\n",
        "triangular, b_nueva = gauss(mat, n, b)\n",
        "\n",
        "print(f\"Su determinante es {determinante(triangular, n)}\")"
      ],
      "execution_count": null,
      "outputs": [
        {
          "output_type": "stream",
          "name": "stdout",
          "text": [
            "Su determinante es 7.0\n"
          ]
        }
      ]
    },
    {
      "cell_type": "markdown",
      "metadata": {
        "id": "5C0cWjNkWXI7"
      },
      "source": [
        "## [Regresar al ínidce](https://github.com/neto-riga/Metodos_Numericos/blob/main/Portafolio.md#índice)"
      ]
    }
  ]
}