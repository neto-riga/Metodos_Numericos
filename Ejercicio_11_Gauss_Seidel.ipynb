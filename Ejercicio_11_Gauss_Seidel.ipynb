{
  "nbformat": 4,
  "nbformat_minor": 0,
  "metadata": {
    "colab": {
      "name": "Ejercicio_11 Gauss-Seidel.ipynb",
      "provenance": [],
      "collapsed_sections": [],
      "include_colab_link": true
    },
    "kernelspec": {
      "name": "python3",
      "display_name": "Python 3"
    },
    "language_info": {
      "name": "python"
    }
  },
  "cells": [
    {
      "cell_type": "markdown",
      "metadata": {
        "id": "view-in-github",
        "colab_type": "text"
      },
      "source": [
        "<a href=\"https://colab.research.google.com/github/neto-riga/Metodos_Numericos/blob/main/Ejercicio_11_Gauss_Seidel.ipynb\" target=\"_parent\"><img src=\"https://colab.research.google.com/assets/colab-badge.svg\" alt=\"Open In Colab\"/></a>"
      ]
    },
    {
      "cell_type": "markdown",
      "metadata": {
        "id": "feAGSkqsd0dY"
      },
      "source": [
        "# Método de Gauss - Seidel\n",
        "***Martínez Venegas Raúl***\n",
        "\n",
        "***Rivera Gálvez Ernesto***\n",
        "\n",
        "---\n",
        "\n"
      ]
    },
    {
      "cell_type": "markdown",
      "metadata": {
        "id": "-bVHP_iceOAa"
      },
      "source": [
        "Resolver el siguiente sistema por el método de Gauss-Seidel:\n",
        "\n",
        "\n",
        "$$\\begin{eqnarray}\n",
        "9x_{1} - x_{2} + 2x_{3} - 2x_{4} &=& -11 \\\\ -x_{1} + 8x_{2} - x_{3} + 3x_{4} &=& 15 \\\\ 2x_{1} - x_{2} + 10x_{3} - x_{4} &=& 45 \\\\ 2x_{1} + 3x_{2} - x_{3} + 8x_{4} &=& -39\n",
        "\\end{eqnarray}$$\n",
        "\n",
        "* Tomar como vector inicial el vector de ceros.\n",
        "* Estimar el error con la norma espectral.\n",
        "* Comparación con el método de Jacobi."
      ]
    },
    {
      "cell_type": "markdown",
      "metadata": {
        "id": "Y4D3BjuiGgwe"
      },
      "source": [
        "El sistema en su forma matricial\n",
        "$$\n",
        "\\begin{bmatrix}\n",
        "9  & -1& 2& -2\\\\\n",
        "-1 &  8& -1& 3\\\\\n",
        "2  &  -1& 10& -1\\\\\n",
        "2 & 3&  -1& 8\n",
        "\\end{bmatrix}\n",
        "\\cdot\n",
        "\\begin{bmatrix}\n",
        "x_1\\\\\n",
        "x_2\\\\\n",
        "x_3\\\\\n",
        "x_4\n",
        "\\end{bmatrix}\n",
        "=\n",
        "\\begin{bmatrix}\n",
        " -11\\\\\n",
        " 15\\\\\n",
        "45\\\\\n",
        "-39\n",
        "\\end{bmatrix}\n",
        "$$"
      ]
    },
    {
      "cell_type": "markdown",
      "metadata": {
        "colab_type": "toc",
        "id": "UDwflH3oPbTM"
      },
      "source": [
        "* [Método de Gauss - Seidel](#scrollTo=feAGSkqsd0dY)\n",
        "\n",
        "  * [Empleo del método](#scrollTo=IoU9Ur6qJHyA)\n",
        "\n",
        "  * [Estimación del Error con la Norma Espectral](#scrollTo=RUW5p2lgNP5r)\n",
        "\n",
        "  * [Utilizando el Método de Jacobi](#scrollTo=Zbvi1bDqOcat)\n",
        "\n",
        "    * [Conclusiones en la comparación de los métodos.](#scrollTo=mPyKTfY3REDw)\n",
        "\n"
      ]
    },
    {
      "cell_type": "code",
      "metadata": {
        "id": "mmdVdWjr94Mt"
      },
      "source": [
        "import numpy as np\n",
        "import matplotlib.pyplot as plt\n",
        "import pandas as pd\n",
        "import sympy as sp"
      ],
      "execution_count": null,
      "outputs": []
    },
    {
      "cell_type": "code",
      "metadata": {
        "id": "ofAKK0PZYOvk"
      },
      "source": [
        "def printmat(m, x, b):\n",
        "  print(\" X\\t\\t\", \"\\t\"*int(n/2), 'A', '\\t'*int(n/2 + n%2), 'B')\n",
        "  for i in range(n):\n",
        "    print(f'{x[i][0]:.4g}\\t|', end='\\t')\n",
        "    for j in range(n):\n",
        "      print(f'{m[i,j]:.4g}', end='\\t')\n",
        "    print(f'|{b[i][0]:.4g}')"
      ],
      "execution_count": null,
      "outputs": []
    },
    {
      "cell_type": "markdown",
      "metadata": {
        "id": "IoU9Ur6qJHyA"
      },
      "source": [
        "## Empleo del método\n",
        "---\n",
        "Creamos los objetos de sus respectivos tamaños y los inicializamos. Iniciaremos el método con el vector inicial de ceros, es decir\n",
        "$$\n",
        "x_0^T = [0, 0, 0, 0]\n",
        "$$"
      ]
    },
    {
      "cell_type": "code",
      "metadata": {
        "id": "svdmnPJv-I92"
      },
      "source": [
        "n = 4\n",
        "\n",
        "mat = np.eye(n)\n",
        "x_prev = np.zeros(n).reshape(n,1)\n",
        "x_sig = x_prev.copy()\n",
        "x_sol = x_prev.copy()\n",
        "b = np.zeros(n).reshape(n,1)\n",
        "\n",
        "mat[0]= [9, -1, 2, -2]\n",
        "b[0] = -11\n",
        "mat[1] = [-1, 8, -1, 3]\n",
        "b[1] = 15\n",
        "mat[2]=[2, -1, 10, -1]\n",
        "b[2] = 45\n",
        "mat[3]=[2, 3, -1, 8]\n",
        "b[3] = -39\n",
        "R1 = 0 \n",
        "R2 = 0"
      ],
      "execution_count": null,
      "outputs": []
    },
    {
      "cell_type": "markdown",
      "metadata": {
        "id": "seUv1ifRKlcQ"
      },
      "source": [
        "Ahora verificamos que la matriz sea EDD, de nos ser así, realizamos los cambios de columnas necesarios para intentar transformar la matriz en una EDD.\n",
        "\n",
        "Si después de hacer los cambios correspondientes la matriz sigue sin ser EDD, entonces se obtiene un error."
      ]
    },
    {
      "cell_type": "code",
      "metadata": {
        "id": "h1dfa1Iy_pk7",
        "colab": {
          "base_uri": "https://localhost:8080/"
        },
        "outputId": "6f943df6-7ba8-40a9-b636-d4072ad66f67"
      },
      "source": [
        "mayor = {\n",
        "    'valor': 0,\n",
        "    'columna': 0\n",
        "  }\n",
        "cam_x=[]\n",
        "cam_p=[]\n",
        "for i in range(n):\n",
        "  mayor['valor'] = 0\n",
        "  for k in range(n):\n",
        "    if abs(mat[i,k]) > abs(mayor.get('valor')): # Encuentra el mayor elemento\n",
        "      mayor['valor'] = mat[i,k] # Guarda el valor del elemento\n",
        "      mayor['columna'] = k # Guarda la columna en la que se encuentra\n",
        "  if abs(mayor['valor']) != abs(mat[i,i]): # Si el i,i no es el mayor\n",
        "    mat[:,[k, mayor.get('columna')]] = mat[:,[mayor.get('columna'), k]] # intercambiar las columnas\n",
        "    cam_x.append(mayor.get('columna'))\n",
        "    cam_p.append(k)\n",
        "for i in range(n):\n",
        "  suma_resto = 0\n",
        "  for j in range(n):\n",
        "    if j != i:\n",
        "      suma_resto += abs(mat[i, j])\n",
        "  if abs(mat[i, i]) < suma_resto:\n",
        "    raise ValueError(\"Su matriz no pudo hacerse EDD\")\n",
        "print(\"Matriz EDD\")\n",
        "printmat(mat,x_prev,b)\n",
        "\n",
        "x_frame = x_prev.copy()\n",
        "for iter in range(7):\n",
        "  for i in range(n):\n",
        "    R1=0\n",
        "    R2=0\n",
        "    for j in range(n):\n",
        "      if j < i:\n",
        "        R1 += (mat[i,j]/mat[i,i]) * x_sig[j]\n",
        "        \n",
        "      elif j > i:\n",
        "        R2 += (mat[i,j]/mat[i,i]) * x_prev[j]\n",
        "        \n",
        "    x_sig[i] = -R1 - R2 + (b[i][0]/mat[i,i])\n",
        "  x_sol = x_sig.copy()\n",
        "  for g in range(len(cam_x)):\n",
        "    x_sol[[cam_x[g-1], cam_p[g-1]]]=x_sol[[cam_p[g-1], cam_x[g-1]]]\n",
        "  x_frame = np.append(x_frame, x_sol.copy(), axis=1)\n",
        "  x_prev = x_sig.copy()"
      ],
      "execution_count": null,
      "outputs": [
        {
          "output_type": "stream",
          "name": "stdout",
          "text": [
            "Matriz EDD\n",
            " X\t\t \t\t A \t\t B\n",
            "0\t|\t9\t-1\t2\t-2\t|-11\n",
            "0\t|\t-1\t8\t-1\t3\t|15\n",
            "0\t|\t2\t-1\t10\t-1\t|45\n",
            "0\t|\t2\t3\t-1\t8\t|-39\n"
          ]
        }
      ]
    },
    {
      "cell_type": "markdown",
      "metadata": {
        "id": "jiz9v2pkMo52"
      },
      "source": [
        "Después de obtener una matriz EDD se muestra el comportamiento de la iteraciones"
      ]
    },
    {
      "cell_type": "code",
      "metadata": {
        "colab": {
          "base_uri": "https://localhost:8080/",
          "height": 173
        },
        "id": "qoWqgedRcoEH",
        "outputId": "a015abaf-9205-4b92-effe-a01e4189a223"
      },
      "source": [
        "nombres = [f'x{i}' for i in range(len(x_frame[0]))]\n",
        "X = pd.DataFrame(x_frame,\n",
        "                 columns=nombres)\n",
        "X"
      ],
      "execution_count": null,
      "outputs": [
        {
          "output_type": "execute_result",
          "data": {
            "text/html": [
              "<div>\n",
              "<style scoped>\n",
              "    .dataframe tbody tr th:only-of-type {\n",
              "        vertical-align: middle;\n",
              "    }\n",
              "\n",
              "    .dataframe tbody tr th {\n",
              "        vertical-align: top;\n",
              "    }\n",
              "\n",
              "    .dataframe thead th {\n",
              "        text-align: right;\n",
              "    }\n",
              "</style>\n",
              "<table border=\"1\" class=\"dataframe\">\n",
              "  <thead>\n",
              "    <tr style=\"text-align: right;\">\n",
              "      <th></th>\n",
              "      <th>x0</th>\n",
              "      <th>x1</th>\n",
              "      <th>x2</th>\n",
              "      <th>x3</th>\n",
              "      <th>x4</th>\n",
              "      <th>x5</th>\n",
              "      <th>x6</th>\n",
              "      <th>x7</th>\n",
              "    </tr>\n",
              "  </thead>\n",
              "  <tbody>\n",
              "    <tr>\n",
              "      <th>0</th>\n",
              "      <td>0.0</td>\n",
              "      <td>-1.222222</td>\n",
              "      <td>-3.145833</td>\n",
              "      <td>-3.006820</td>\n",
              "      <td>-3.002317</td>\n",
              "      <td>-3.000319</td>\n",
              "      <td>-3.000055</td>\n",
              "      <td>-3.000009</td>\n",
              "    </tr>\n",
              "    <tr>\n",
              "      <th>1</th>\n",
              "      <td>0.0</td>\n",
              "      <td>1.722222</td>\n",
              "      <td>3.821615</td>\n",
              "      <td>3.964395</td>\n",
              "      <td>3.994750</td>\n",
              "      <td>3.999126</td>\n",
              "      <td>3.999860</td>\n",
              "      <td>3.999977</td>\n",
              "    </tr>\n",
              "    <tr>\n",
              "      <th>2</th>\n",
              "      <td>0.0</td>\n",
              "      <td>4.916667</td>\n",
              "      <td>5.051259</td>\n",
              "      <td>5.008780</td>\n",
              "      <td>5.001554</td>\n",
              "      <td>5.000251</td>\n",
              "      <td>5.000041</td>\n",
              "      <td>5.000007</td>\n",
              "    </tr>\n",
              "    <tr>\n",
              "      <th>3</th>\n",
              "      <td>0.0</td>\n",
              "      <td>-4.600694</td>\n",
              "      <td>-4.890240</td>\n",
              "      <td>-4.983846</td>\n",
              "      <td>-4.997258</td>\n",
              "      <td>-4.999561</td>\n",
              "      <td>-4.999928</td>\n",
              "      <td>-4.999988</td>\n",
              "    </tr>\n",
              "  </tbody>\n",
              "</table>\n",
              "</div>"
            ],
            "text/plain": [
              "    x0        x1        x2        x3        x4        x5        x6        x7\n",
              "0  0.0 -1.222222 -3.145833 -3.006820 -3.002317 -3.000319 -3.000055 -3.000009\n",
              "1  0.0  1.722222  3.821615  3.964395  3.994750  3.999126  3.999860  3.999977\n",
              "2  0.0  4.916667  5.051259  5.008780  5.001554  5.000251  5.000041  5.000007\n",
              "3  0.0 -4.600694 -4.890240 -4.983846 -4.997258 -4.999561 -4.999928 -4.999988"
            ]
          },
          "metadata": {},
          "execution_count": 14
        }
      ]
    },
    {
      "cell_type": "markdown",
      "metadata": {
        "id": "XzHEJYHyM902"
      },
      "source": [
        "Se muestra la aproximación del vector solución de la pultima iteración"
      ]
    },
    {
      "cell_type": "code",
      "metadata": {
        "colab": {
          "base_uri": "https://localhost:8080/",
          "height": 98
        },
        "id": "63yFpk2zdeqZ",
        "outputId": "7022293a-f0f7-4b43-be84-bcdf1abaab4d"
      },
      "source": [
        "R = sp.Matrix(x_sol)\n",
        "R.evalf(3)"
      ],
      "execution_count": null,
      "outputs": [
        {
          "output_type": "execute_result",
          "data": {
            "text/latex": "$\\displaystyle \\left[\\begin{matrix}-3.0\\\\4.0\\\\5.0\\\\-5.0\\end{matrix}\\right]$",
            "text/plain": [
              "Matrix([\n",
              "[-3.0],\n",
              "[ 4.0],\n",
              "[ 5.0],\n",
              "[-5.0]])"
            ]
          },
          "metadata": {},
          "execution_count": 7
        }
      ]
    },
    {
      "cell_type": "markdown",
      "metadata": {
        "id": "RUW5p2lgNP5r"
      },
      "source": [
        "## Estimación del Error con la Norma Espectral\n",
        "---\n",
        "Mostrando el error por iteración en las últimas 5 iteraciones."
      ]
    },
    {
      "cell_type": "code",
      "metadata": {
        "colab": {
          "base_uri": "https://localhost:8080/",
          "height": 235
        },
        "id": "9YiDFS4YdXBh",
        "outputId": "11768868-8e77-442e-cb53-285cd46953a7"
      },
      "source": [
        "error = []\n",
        "for i in range(len(x_frame[0])-5,len(x_frame[0])):\n",
        "  error.append(x_frame[:, (i)] - x_frame[:,(i-1)])\n",
        "for i in range(5):\n",
        "  mayor = 0\n",
        "  for j in error[i]:\n",
        "    if abs(mayor)<abs(j):\n",
        "      mayor = j\n",
        "  error[i]= np.append(error[i], abs(mayor))\n",
        "nombres2 = [f'x{i} - x{i-1}' for i in range(len(x_frame[0])-5,len(x_frame[0]))]\n",
        "X1 = pd.DataFrame(error,\n",
        "                 columns=nombres2)\n",
        "inx = [f'{i+1}' for i in range(n)]\n",
        "inx.append('ɛ')\n",
        "X1['Valores'] = inx\n",
        "X1.set_index('Valores', inplace=True)\n",
        "X1"
      ],
      "execution_count": null,
      "outputs": [
        {
          "output_type": "execute_result",
          "data": {
            "text/html": [
              "<div>\n",
              "<style scoped>\n",
              "    .dataframe tbody tr th:only-of-type {\n",
              "        vertical-align: middle;\n",
              "    }\n",
              "\n",
              "    .dataframe tbody tr th {\n",
              "        vertical-align: top;\n",
              "    }\n",
              "\n",
              "    .dataframe thead th {\n",
              "        text-align: right;\n",
              "    }\n",
              "</style>\n",
              "<table border=\"1\" class=\"dataframe\">\n",
              "  <thead>\n",
              "    <tr style=\"text-align: right;\">\n",
              "      <th></th>\n",
              "      <th>x3 - x2</th>\n",
              "      <th>x4 - x3</th>\n",
              "      <th>x5 - x4</th>\n",
              "      <th>x6 - x5</th>\n",
              "      <th>x7 - x6</th>\n",
              "    </tr>\n",
              "    <tr>\n",
              "      <th>Valores</th>\n",
              "      <th></th>\n",
              "      <th></th>\n",
              "      <th></th>\n",
              "      <th></th>\n",
              "      <th></th>\n",
              "    </tr>\n",
              "  </thead>\n",
              "  <tbody>\n",
              "    <tr>\n",
              "      <th>1</th>\n",
              "      <td>0.139013</td>\n",
              "      <td>0.142780</td>\n",
              "      <td>-0.042479</td>\n",
              "      <td>-0.093606</td>\n",
              "      <td>0.142780</td>\n",
              "    </tr>\n",
              "    <tr>\n",
              "      <th>2</th>\n",
              "      <td>0.004503</td>\n",
              "      <td>0.030355</td>\n",
              "      <td>-0.007226</td>\n",
              "      <td>-0.013412</td>\n",
              "      <td>0.030355</td>\n",
              "    </tr>\n",
              "    <tr>\n",
              "      <th>3</th>\n",
              "      <td>0.001998</td>\n",
              "      <td>0.004376</td>\n",
              "      <td>-0.001303</td>\n",
              "      <td>-0.002303</td>\n",
              "      <td>0.004376</td>\n",
              "    </tr>\n",
              "    <tr>\n",
              "      <th>4</th>\n",
              "      <td>0.000264</td>\n",
              "      <td>0.000734</td>\n",
              "      <td>-0.000210</td>\n",
              "      <td>-0.000367</td>\n",
              "      <td>0.000734</td>\n",
              "    </tr>\n",
              "    <tr>\n",
              "      <th>ɛ</th>\n",
              "      <td>0.000047</td>\n",
              "      <td>0.000117</td>\n",
              "      <td>-0.000034</td>\n",
              "      <td>-0.000060</td>\n",
              "      <td>0.000117</td>\n",
              "    </tr>\n",
              "  </tbody>\n",
              "</table>\n",
              "</div>"
            ],
            "text/plain": [
              "          x3 - x2   x4 - x3   x5 - x4   x6 - x5   x7 - x6\n",
              "Valores                                                  \n",
              "1        0.139013  0.142780 -0.042479 -0.093606  0.142780\n",
              "2        0.004503  0.030355 -0.007226 -0.013412  0.030355\n",
              "3        0.001998  0.004376 -0.001303 -0.002303  0.004376\n",
              "4        0.000264  0.000734 -0.000210 -0.000367  0.000734\n",
              "ɛ        0.000047  0.000117 -0.000034 -0.000060  0.000117"
            ]
          },
          "metadata": {},
          "execution_count": 8
        }
      ]
    },
    {
      "cell_type": "markdown",
      "metadata": {
        "id": "Zbvi1bDqOcat"
      },
      "source": [
        "## Utilizando el Método de Jacobi\n",
        "---\n"
      ]
    },
    {
      "cell_type": "code",
      "metadata": {
        "id": "xKDNUfRaOhW5"
      },
      "source": [
        "mat = np.eye(n)\n",
        "x_prev = np.zeros(n).reshape(n,1)\n",
        "x_sig = x_prev.copy()\n",
        "x_sol = x_prev.copy()\n",
        "b = np.zeros(n).reshape(n,1)\n",
        "\n",
        "mat[0]= [9, -1, 2, -2]\n",
        "b[0] = -11\n",
        "mat[1] = [-1, 8, -1, 3]\n",
        "b[1] = 15\n",
        "mat[2]=[2, -1, 10, -1]\n",
        "b[2] = 45\n",
        "mat[3]=[2, 3, -1, 8]\n",
        "b[3] = -39"
      ],
      "execution_count": null,
      "outputs": []
    },
    {
      "cell_type": "code",
      "metadata": {
        "id": "FWaxew_TOnJ8"
      },
      "source": [
        "mayor = {\n",
        "    'valor': 0,\n",
        "    'columna': 0\n",
        "  }\n",
        "cam_x=[]\n",
        "cam_p=[]\n",
        "for i in range(n):\n",
        "  mayor['valor'] = 0\n",
        "  for k in range(n):\n",
        "    if abs(mat[i,k]) > abs(mayor.get('valor')): # Encuentra el mayor elemento\n",
        "      mayor['valor'] = mat[i,k] # Guarda el valor del elemento\n",
        "      mayor['columna'] = k # Guarda la columna en la que se encuentra\n",
        "  if abs(mayor['valor']) != abs(mat[i,i]): # Si el i,i no es el mayor\n",
        "    mat[:,[k, mayor.get('columna')]] = mat[:,[mayor.get('columna'), k]] # intercambiar las columnas\n",
        "    cam_x.append(mayor.get('columna'))\n",
        "    cam_p.append(k)\n",
        "for i in range(n):\n",
        "  suma_resto = 0\n",
        "  for j in range(n):\n",
        "    if j != i:\n",
        "      suma_resto += abs(mat[i, j])\n",
        "  if abs(mat[i, i]) < suma_resto:\n",
        "    raise ValueError(\"Su matriz no es EDD\")\n",
        "\n",
        "x_frame = x_prev.copy()\n",
        "for iter in range(7):\n",
        "\n",
        "  for i in range(n):\n",
        "    x_sig[i] = b[i][0] / mat[i, i]\n",
        "    for j in range(n):\n",
        "      if j != i:\n",
        "        x_sig[i] -= mat[i,j] / mat[i, i] * x_prev[j][0]\n",
        "  x_sol = x_sig.copy()\n",
        "  for g in range(len(cam_x)):\n",
        "    x_sol[[cam_x[g-1], cam_p[g-1]]]=x_sol[[cam_p[g-1], cam_x[g-1]]]\n",
        "  x_frame = np.append(x_frame, x_sol.copy(), axis=1)\n",
        "  x_prev = x_sig.copy()"
      ],
      "execution_count": null,
      "outputs": []
    },
    {
      "cell_type": "code",
      "metadata": {
        "colab": {
          "base_uri": "https://localhost:8080/",
          "height": 173
        },
        "id": "FK1zUut9Ovie",
        "outputId": "673b091e-6f05-4999-b389-191ff4bb0c01"
      },
      "source": [
        "nombres = [f'x{i}' for i in range(len(x_frame[0]))]\n",
        "X = pd.DataFrame(x_frame,\n",
        "                 columns=nombres)\n",
        "X"
      ],
      "execution_count": null,
      "outputs": [
        {
          "output_type": "execute_result",
          "data": {
            "text/html": [
              "<div>\n",
              "<style scoped>\n",
              "    .dataframe tbody tr th:only-of-type {\n",
              "        vertical-align: middle;\n",
              "    }\n",
              "\n",
              "    .dataframe tbody tr th {\n",
              "        vertical-align: top;\n",
              "    }\n",
              "\n",
              "    .dataframe thead th {\n",
              "        text-align: right;\n",
              "    }\n",
              "</style>\n",
              "<table border=\"1\" class=\"dataframe\">\n",
              "  <thead>\n",
              "    <tr style=\"text-align: right;\">\n",
              "      <th></th>\n",
              "      <th>x0</th>\n",
              "      <th>x1</th>\n",
              "      <th>x2</th>\n",
              "      <th>x3</th>\n",
              "      <th>x4</th>\n",
              "      <th>x5</th>\n",
              "      <th>x6</th>\n",
              "      <th>x7</th>\n",
              "    </tr>\n",
              "  </thead>\n",
              "  <tbody>\n",
              "    <tr>\n",
              "      <th>0</th>\n",
              "      <td>0.0</td>\n",
              "      <td>-1.222222</td>\n",
              "      <td>-3.097222</td>\n",
              "      <td>-2.799576</td>\n",
              "      <td>-3.053853</td>\n",
              "      <td>-2.971278</td>\n",
              "      <td>-3.011707</td>\n",
              "      <td>-2.995090</td>\n",
              "    </tr>\n",
              "    <tr>\n",
              "      <th>1</th>\n",
              "      <td>0.0</td>\n",
              "      <td>1.875000</td>\n",
              "      <td>4.112847</td>\n",
              "      <td>3.809679</td>\n",
              "      <td>4.065315</td>\n",
              "      <td>3.974012</td>\n",
              "      <td>4.013429</td>\n",
              "      <td>3.995342</td>\n",
              "    </tr>\n",
              "    <tr>\n",
              "      <th>2</th>\n",
              "      <td>0.0</td>\n",
              "      <td>4.500000</td>\n",
              "      <td>4.444444</td>\n",
              "      <td>5.059722</td>\n",
              "      <td>4.932137</td>\n",
              "      <td>5.020175</td>\n",
              "      <td>4.989706</td>\n",
              "      <td>5.004193</td>\n",
              "    </tr>\n",
              "    <tr>\n",
              "      <th>3</th>\n",
              "      <td>0.0</td>\n",
              "      <td>-4.875000</td>\n",
              "      <td>-4.710069</td>\n",
              "      <td>-5.087457</td>\n",
              "      <td>-4.971270</td>\n",
              "      <td>-5.019512</td>\n",
              "      <td>-4.994913</td>\n",
              "      <td>-5.003396</td>\n",
              "    </tr>\n",
              "  </tbody>\n",
              "</table>\n",
              "</div>"
            ],
            "text/plain": [
              "    x0        x1        x2        x3        x4        x5        x6        x7\n",
              "0  0.0 -1.222222 -3.097222 -2.799576 -3.053853 -2.971278 -3.011707 -2.995090\n",
              "1  0.0  1.875000  4.112847  3.809679  4.065315  3.974012  4.013429  3.995342\n",
              "2  0.0  4.500000  4.444444  5.059722  4.932137  5.020175  4.989706  5.004193\n",
              "3  0.0 -4.875000 -4.710069 -5.087457 -4.971270 -5.019512 -4.994913 -5.003396"
            ]
          },
          "metadata": {},
          "execution_count": 22
        }
      ]
    },
    {
      "cell_type": "code",
      "metadata": {
        "colab": {
          "base_uri": "https://localhost:8080/",
          "height": 98
        },
        "id": "yO__MIffPLmt",
        "outputId": "c05f0b15-2fa4-4cb0-9ecb-e49fcfbf5f3e"
      },
      "source": [
        "R = sp.Matrix(x_sol)\n",
        "R.evalf(3)"
      ],
      "execution_count": null,
      "outputs": [
        {
          "output_type": "execute_result",
          "data": {
            "text/latex": "$\\displaystyle \\left[\\begin{matrix}-3.0\\\\4.0\\\\5.0\\\\-5.0\\end{matrix}\\right]$",
            "text/plain": [
              "Matrix([\n",
              "[-3.0],\n",
              "[ 4.0],\n",
              "[ 5.0],\n",
              "[-5.0]])"
            ]
          },
          "metadata": {},
          "execution_count": 24
        }
      ]
    },
    {
      "cell_type": "code",
      "metadata": {
        "colab": {
          "base_uri": "https://localhost:8080/",
          "height": 235
        },
        "id": "H0i69ESiO7kH",
        "outputId": "b24b0881-a04f-4c32-97de-7454100fc4a7"
      },
      "source": [
        "error = []\n",
        "for i in range(len(x_frame[0])-5,len(x_frame[0])):\n",
        "  error.append(x_frame[:, (i)] - x_frame[:,(i-1)])\n",
        "for i in range(5):\n",
        "  mayor = 0\n",
        "  for j in error[i]:\n",
        "    if abs(mayor)<abs(j):\n",
        "      mayor = j\n",
        "  error[i]= np.append(error[i], abs(mayor))\n",
        "nombres2 = [f'x{i} - x{i-1}' for i in range(len(x_frame[0])-5,len(x_frame[0]))]\n",
        "X1 = pd.DataFrame(error,\n",
        "                 columns=nombres2)\n",
        "inx = [f'{i+1}' for i in range(n)]\n",
        "inx.append('ɛ')\n",
        "X1['Valores'] = inx\n",
        "X1.set_index('Valores', inplace=True)\n",
        "X1"
      ],
      "execution_count": null,
      "outputs": [
        {
          "output_type": "execute_result",
          "data": {
            "text/html": [
              "<div>\n",
              "<style scoped>\n",
              "    .dataframe tbody tr th:only-of-type {\n",
              "        vertical-align: middle;\n",
              "    }\n",
              "\n",
              "    .dataframe tbody tr th {\n",
              "        vertical-align: top;\n",
              "    }\n",
              "\n",
              "    .dataframe thead th {\n",
              "        text-align: right;\n",
              "    }\n",
              "</style>\n",
              "<table border=\"1\" class=\"dataframe\">\n",
              "  <thead>\n",
              "    <tr style=\"text-align: right;\">\n",
              "      <th></th>\n",
              "      <th>x3 - x2</th>\n",
              "      <th>x4 - x3</th>\n",
              "      <th>x5 - x4</th>\n",
              "      <th>x6 - x5</th>\n",
              "      <th>x7 - x6</th>\n",
              "    </tr>\n",
              "    <tr>\n",
              "      <th>Valores</th>\n",
              "      <th></th>\n",
              "      <th></th>\n",
              "      <th></th>\n",
              "      <th></th>\n",
              "      <th></th>\n",
              "    </tr>\n",
              "  </thead>\n",
              "  <tbody>\n",
              "    <tr>\n",
              "      <th>1</th>\n",
              "      <td>0.297647</td>\n",
              "      <td>-0.303168</td>\n",
              "      <td>0.615278</td>\n",
              "      <td>-0.377387</td>\n",
              "      <td>0.615278</td>\n",
              "    </tr>\n",
              "    <tr>\n",
              "      <th>2</th>\n",
              "      <td>-0.254278</td>\n",
              "      <td>0.255636</td>\n",
              "      <td>-0.127585</td>\n",
              "      <td>0.116186</td>\n",
              "      <td>0.255636</td>\n",
              "    </tr>\n",
              "    <tr>\n",
              "      <th>3</th>\n",
              "      <td>0.082575</td>\n",
              "      <td>-0.091303</td>\n",
              "      <td>0.088038</td>\n",
              "      <td>-0.048242</td>\n",
              "      <td>0.091303</td>\n",
              "    </tr>\n",
              "    <tr>\n",
              "      <th>4</th>\n",
              "      <td>-0.040429</td>\n",
              "      <td>0.039417</td>\n",
              "      <td>-0.030470</td>\n",
              "      <td>0.024599</td>\n",
              "      <td>0.040429</td>\n",
              "    </tr>\n",
              "    <tr>\n",
              "      <th>ɛ</th>\n",
              "      <td>0.016617</td>\n",
              "      <td>-0.018087</td>\n",
              "      <td>0.014488</td>\n",
              "      <td>-0.008483</td>\n",
              "      <td>0.018087</td>\n",
              "    </tr>\n",
              "  </tbody>\n",
              "</table>\n",
              "</div>"
            ],
            "text/plain": [
              "          x3 - x2   x4 - x3   x5 - x4   x6 - x5   x7 - x6\n",
              "Valores                                                  \n",
              "1        0.297647 -0.303168  0.615278 -0.377387  0.615278\n",
              "2       -0.254278  0.255636 -0.127585  0.116186  0.255636\n",
              "3        0.082575 -0.091303  0.088038 -0.048242  0.091303\n",
              "4       -0.040429  0.039417 -0.030470  0.024599  0.040429\n",
              "ɛ        0.016617 -0.018087  0.014488 -0.008483  0.018087"
            ]
          },
          "metadata": {},
          "execution_count": 23
        }
      ]
    },
    {
      "cell_type": "markdown",
      "metadata": {
        "id": "mPyKTfY3REDw"
      },
      "source": [
        "### Conclusiones en la comparación de los métodos.\n",
        "---\n",
        "Notemos que ambos métodos llegan al mismo resultado, sin embargo, podemos ver claramente la diferencia en la que convergen en sus errores y la rapidez con la que el método converge. Haremos una comparación en la siguiente tabla comparando la iteración en la que llegan al resultado redondeando a dos decimales:"
      ]
    },
    {
      "cell_type": "code",
      "metadata": {
        "colab": {
          "base_uri": "https://localhost:8080/",
          "height": 142
        },
        "id": "Ejxe9NCsRmU8",
        "outputId": "912d4562-573b-4812-baea-fe3b88c3d52b"
      },
      "source": [
        "comparacion = pd.DataFrame({'Iteración': [3, 5],\n",
        "              'Error Espectral': [4.7e-5, 1.448e-3],\n",
        "              })\n",
        "comparacion['Método'] = ['Gauss-Seidel', 'Jacobi']\n",
        "comparacion.set_index('Método', inplace=True)\n",
        "comparacion"
      ],
      "execution_count": null,
      "outputs": [
        {
          "output_type": "execute_result",
          "data": {
            "text/html": [
              "<div>\n",
              "<style scoped>\n",
              "    .dataframe tbody tr th:only-of-type {\n",
              "        vertical-align: middle;\n",
              "    }\n",
              "\n",
              "    .dataframe tbody tr th {\n",
              "        vertical-align: top;\n",
              "    }\n",
              "\n",
              "    .dataframe thead th {\n",
              "        text-align: right;\n",
              "    }\n",
              "</style>\n",
              "<table border=\"1\" class=\"dataframe\">\n",
              "  <thead>\n",
              "    <tr style=\"text-align: right;\">\n",
              "      <th></th>\n",
              "      <th>Iteración</th>\n",
              "      <th>Error Espectral</th>\n",
              "    </tr>\n",
              "    <tr>\n",
              "      <th>Método</th>\n",
              "      <th></th>\n",
              "      <th></th>\n",
              "    </tr>\n",
              "  </thead>\n",
              "  <tbody>\n",
              "    <tr>\n",
              "      <th>Gauss-Seidel</th>\n",
              "      <td>3</td>\n",
              "      <td>0.000047</td>\n",
              "    </tr>\n",
              "    <tr>\n",
              "      <th>Jacobi</th>\n",
              "      <td>5</td>\n",
              "      <td>0.001448</td>\n",
              "    </tr>\n",
              "  </tbody>\n",
              "</table>\n",
              "</div>"
            ],
            "text/plain": [
              "              Iteración  Error Espectral\n",
              "Método                                  \n",
              "Gauss-Seidel          3         0.000047\n",
              "Jacobi                5         0.001448"
            ]
          },
          "metadata": {},
          "execution_count": 30
        }
      ]
    },
    {
      "cell_type": "markdown",
      "metadata": {
        "id": "lzcgXps0TTYp"
      },
      "source": [
        "Donde queda clara la ventaja de usar Gauss-Seidel para esta matriz en específico, pues llego a la solución en dos iteraciones menos con un error mucho menor."
      ]
    }
  ]
}