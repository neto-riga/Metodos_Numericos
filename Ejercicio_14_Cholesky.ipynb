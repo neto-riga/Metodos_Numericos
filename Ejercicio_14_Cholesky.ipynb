{
  "nbformat": 4,
  "nbformat_minor": 0,
  "metadata": {
    "colab": {
      "name": "Ejercicio_14 Cholesky.ipynb",
      "provenance": [],
      "collapsed_sections": [],
      "authorship_tag": "ABX9TyMnUx0+XmRNwu9enHk1hkjK",
      "include_colab_link": true
    },
    "kernelspec": {
      "name": "python3",
      "display_name": "Python 3"
    },
    "language_info": {
      "name": "python"
    }
  },
  "cells": [
    {
      "cell_type": "markdown",
      "metadata": {
        "id": "view-in-github",
        "colab_type": "text"
      },
      "source": [
        "<a href=\"https://colab.research.google.com/github/neto-riga/Metodos_Numericos/blob/main/Ejercicio_14_Cholesky.ipynb\" target=\"_parent\"><img src=\"https://colab.research.google.com/assets/colab-badge.svg\" alt=\"Open In Colab\"/></a>"
      ]
    },
    {
      "cell_type": "markdown",
      "metadata": {
        "id": "N_9j1TemUpgY"
      },
      "source": [
        "# Método de Cholesky\n",
        "-----\n",
        "Martínez Venegas Raúl \\\\\n",
        "Rivera Gálvez Ernesto "
      ]
    },
    {
      "cell_type": "markdown",
      "metadata": {
        "id": "G4xTt-GsTc00"
      },
      "source": [
        "[Regresar al índice](https://github.com/neto-riga/Metodos_Numericos/blob/main/Portafolio.md#índice)"
      ]
    },
    {
      "cell_type": "markdown",
      "metadata": {
        "id": "i5g6x2FGUtA3"
      },
      "source": [
        "## Importamos las librerías"
      ]
    },
    {
      "cell_type": "code",
      "metadata": {
        "id": "b75vwWxzq09j"
      },
      "source": [
        "import numpy as np\n",
        "from google.colab import output\n",
        "from sympy import Matrix\n",
        "from IPython.display import display"
      ],
      "execution_count": null,
      "outputs": []
    },
    {
      "cell_type": "markdown",
      "metadata": {
        "id": "NIPaQAReU2Oy"
      },
      "source": [
        "## LLenado de Matriz"
      ]
    },
    {
      "cell_type": "code",
      "metadata": {
        "id": "L2BXWteSthzT"
      },
      "source": [
        "def llenado_matriz(filas: int, columnas: int) -> np.ndarray:\n",
        "  m_temp = np.zeros((filas, columnas))\n",
        "\n",
        "  for i in range(filas):\n",
        "    for j in range(columnas):\n",
        "      m_temp[i, j] = float(input(f\"Ingrese el elemento [{i}][{j}]: \"))\n",
        "\n",
        "  while True:\n",
        "    output.clear()\n",
        "    print(f'Esta es tu matriz:\\n{m_temp}\\n')\n",
        "\n",
        "    resp = int(input('Presione 1 para continuar y 0 para corregir algún elemento: '))\n",
        "    if resp: break\n",
        "\n",
        "    output.clear()\n",
        "    fila = int(input('Ingrese la fila del elemento que desee cambiar: ')) - 1\n",
        "    col = int(input('Ingrese la columna del elemento que desee cambiar: ')) - 1\n",
        "    if fila > n or fila < 0 or col > n or col < 0:\n",
        "      print(\"Columna y/o fila inválida, intente de nuevo\")\n",
        "      input(\"Presione una tecla para continuar.\")\n",
        "    else:\n",
        "      m_temp[fila, col] = float(input(f'Ingrese el nuevo valor para el elemento [{fila + 1}][{col + 1}]: '))  \n",
        "\n",
        "  return m_temp"
      ],
      "execution_count": null,
      "outputs": []
    },
    {
      "cell_type": "markdown",
      "metadata": {
        "id": "vRNIb2McUveW"
      },
      "source": [
        "## Implementamos el método"
      ]
    },
    {
      "cell_type": "code",
      "metadata": {
        "id": "sNHzbPzose76"
      },
      "source": [
        "def cholesky(n: int, mat: np.ndarray) -> np.ndarray:\n",
        "  output.clear()\n",
        "\n",
        "  l = np.zeros((n, n))\n",
        "  for j in range(n):\n",
        "    for i in range(j, n):\n",
        "      l[i, j] = mat[i, j]\n",
        "      for k in range(j):\n",
        "        if i == j:\n",
        "          l[i, i] -= l[i, k] ** 2\n",
        "        else:\n",
        "          l[i, j] -= l[i, k] * l[j, k]\n",
        "\n",
        "      if i == j:\n",
        "        l[i, i] = np.sqrt(l[i, i])\n",
        "      else:\n",
        "        l[i, j] /= l[j, j]\n",
        "\n",
        "  return l"
      ],
      "execution_count": null,
      "outputs": []
    },
    {
      "cell_type": "markdown",
      "metadata": {
        "id": "NfaGuFBaVxQS"
      },
      "source": [
        "## Sustitución Hacia Adelante"
      ]
    },
    {
      "cell_type": "code",
      "metadata": {
        "id": "BtB1psDzV07Z"
      },
      "source": [
        "def sust_adelante(mat: np.ndarray, b: np.ndarray, n: int) -> np.ndarray:\n",
        "  adelante = np.zeros(n)\n",
        "  for i in range(n):\n",
        "    adelante[i] = b[i]\n",
        "    for j in range(i):\n",
        "      adelante[i] -= mat[i, j] * adelante[j]\n",
        "    \n",
        "    adelante[i] /= mat[i, i]\n",
        "\n",
        "  return adelante\n"
      ],
      "execution_count": null,
      "outputs": []
    },
    {
      "cell_type": "markdown",
      "metadata": {
        "id": "HpHnOWuhZzkj"
      },
      "source": [
        "## Sustitución Hacía Atrás"
      ]
    },
    {
      "cell_type": "code",
      "metadata": {
        "id": "r6qpkGiEZ-pc"
      },
      "source": [
        "def sust_atras(mat: np.ndarray, b: np.ndarray, n:int) -> np.ndarray:\n",
        "  atras = np.zeros(n)\n",
        "  for i in range(1, n+1):\n",
        "    atras[-i] = b[-i]\n",
        "    for j in range(1, i):\n",
        "      atras[-i] -= mat[-i, -j] * atras[-j]\n",
        "    \n",
        "    atras[-i] /= mat[-i, -i]\n",
        "  \n",
        "  return atras"
      ],
      "execution_count": null,
      "outputs": []
    },
    {
      "cell_type": "markdown",
      "metadata": {
        "id": "1cmsFqjjdob7"
      },
      "source": [
        "## Inicializamos Valores"
      ]
    },
    {
      "cell_type": "code",
      "metadata": {
        "id": "ZrlpRKfkyO67"
      },
      "source": [
        "# Para hacer pruebas\n",
        "n = 4\n",
        "\n",
        "mat = np.array([[6, 2, -1, 1],\n",
        "                [2, 4, 1, 0],\n",
        "                [-1, 1, 4, -1],\n",
        "                [1, 0, -1, 3]])\n",
        "\n",
        "b = np.array([17, 18, -3, 3])"
      ],
      "execution_count": null,
      "outputs": []
    },
    {
      "cell_type": "markdown",
      "metadata": {
        "id": "JaGjgqFSdu3A"
      },
      "source": [
        "## Main y Resultados"
      ]
    },
    {
      "cell_type": "code",
      "metadata": {
        "id": "ybKv6LnEssQt",
        "colab": {
          "base_uri": "https://localhost:8080/",
          "height": 132
        },
        "outputId": "cfe097b1-c230-45b4-a2fc-1c087057b47d"
      },
      "source": [
        "if __name__ == \"__main__\":\n",
        "  # n = int(input(\"Ingrese el tamaño de su matriz: \"))\n",
        "  # mat = llenado_matriz(n, n)\n",
        "  # b = llenado_matriz(1, n)\n",
        "  # input(\"Presiona enter para continuar....\")\n",
        "  # output.clear()\n",
        "  print(\"Con su matriz:\")\n",
        "  display(Matrix(mat))\n",
        "  print(\"\\nY su parte aumentada:\")\n",
        "  display(Matrix(b))\n",
        "  input(\"Presione enter para continuar...\")\n",
        "\n",
        "\n",
        "  l = Matrix(cholesky(n, mat))\n",
        "\n",
        "  print(\"La matriz L:\")\n",
        "  display(l.evalf(4))\n",
        "  input(\"Presiona enter para continuar...\")\n",
        "  output.clear()\n",
        "\n",
        "  a = sust_adelante(l, b, n)\n",
        "  sol = Matrix(sust_atras(l.T, a, n))\n",
        "\n",
        "  print(\"El vector solución:\")\n",
        "  display(sol.evalf(4))\n",
        "  input(\"Presiona enter para continuar...\")\n",
        "   "
      ],
      "execution_count": null,
      "outputs": [
        {
          "output_type": "stream",
          "name": "stdout",
          "text": [
            "El vector solución:\n"
          ]
        },
        {
          "output_type": "display_data",
          "data": {
            "text/latex": "$\\displaystyle \\left[\\begin{matrix}1.12\\\\4.32\\\\-1.52\\\\0.12\\end{matrix}\\right]$",
            "text/plain": [
              "Matrix([\n",
              "[ 1.12],\n",
              "[ 4.32],\n",
              "[-1.52],\n",
              "[ 0.12]])"
            ]
          },
          "metadata": {}
        },
        {
          "name": "stdout",
          "output_type": "stream",
          "text": [
            "Presiona enter para continuar...\n"
          ]
        }
      ]
    }
  ]
}