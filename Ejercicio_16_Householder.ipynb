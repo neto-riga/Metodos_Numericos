{
  "nbformat": 4,
  "nbformat_minor": 0,
  "metadata": {
    "colab": {
      "name": "Ejercicio 16 Householder.ipynb",
      "provenance": [],
      "collapsed_sections": [],
      "include_colab_link": true
    },
    "kernelspec": {
      "name": "python3",
      "display_name": "Python 3"
    },
    "language_info": {
      "name": "python"
    }
  },
  "cells": [
    {
      "cell_type": "markdown",
      "metadata": {
        "id": "view-in-github",
        "colab_type": "text"
      },
      "source": [
        "<a href=\"https://colab.research.google.com/github/neto-riga/Metodos_Numericos/blob/main/Ejercicio_16_Householder.ipynb\" target=\"_parent\"><img src=\"https://colab.research.google.com/assets/colab-badge.svg\" alt=\"Open In Colab\"/></a>"
      ]
    },
    {
      "cell_type": "markdown",
      "metadata": {
        "id": "moDE5xfDd3jN"
      },
      "source": [
        "## [Regresar al ínidce](https://github.com/neto-riga/Metodos_Numericos/blob/main/Portafolio.md#índice)"
      ]
    },
    {
      "cell_type": "markdown",
      "metadata": {
        "id": "ejSvMgTjhCY8"
      },
      "source": [
        "#Ejercicio 16. Transformación de Householder.\n",
        "---\n",
        "Martínez Venegas Raúl   \n",
        "Rivera Gálvez Ernesto"
      ]
    },
    {
      "cell_type": "markdown",
      "metadata": {
        "id": "hvzC7zFFhx-A"
      },
      "source": [
        "Aplicar la transformación de Householder a la siguiente matriz:    \n",
        "\n",
        "$$\\begin{bmatrix}\n",
        "-2& 3& 1& -1\\\\  \n",
        " 3& 4& 2&  5\\\\\n",
        " 1& 2& 1&  3\\\\ \n",
        "-1& 5& 3& -4\n",
        "\\end{bmatrix}\n",
        "$$\n",
        "\n",
        "* Presentar el procedimiento, valores de $G$, $r$, vectores $w$, matrices $P$.\n",
        "* Presentar las matrices semejantes $A^{(2)}$ y $A^{(3)}$\n",
        "\n"
      ]
    },
    {
      "cell_type": "markdown",
      "metadata": {
        "id": "g2RpwkJ9ugdt"
      },
      "source": [
        "Para poder observar los resultados será necesario ejecutar la siguiente celda de código, si necesita acceder al código deberá hacer click en \"Mostrar código\"."
      ]
    },
    {
      "cell_type": "code",
      "metadata": {
        "id": "4uUN86iv4-Va",
        "colab": {
          "base_uri": "https://localhost:8080/",
          "height": 116
        },
        "outputId": "45dd877d-de29-40ef-a186-b60296fe9f8d"
      },
      "source": [
        "#Importamos librerias.\n",
        "import numpy as np\n",
        "from sympy import Matrix\n",
        "from IPython.display import display\n",
        "from google.colab import output\n",
        "#Implementación del método.\n",
        "def hausholder(mat, n, iter):\n",
        "  print(f\"A en la iteración {iter +1}\\n\")\n",
        "  display(Matrix(mat).evalf(5))\n",
        "  tr = mat.diagonal().sum()\n",
        "\n",
        "  G = 0\n",
        "  for i in range(iter + 1, n):\n",
        "    G += mat[i, iter] ** 2\n",
        "  G = -np.sqrt(G) if mat[iter + 1, iter] < 0 else np.sqrt(G)\n",
        "  print(f\"\\nCon G = {G}\")\n",
        "  \n",
        "  r = np.sqrt(0.5 * G ** 2 + 0.5 * mat[iter + 1, iter] * G)\n",
        "  print(f\"Con r = {r}\")\n",
        "\n",
        "  w = np.zeros(n)\n",
        "  w[iter + 1] = (mat[iter + 1, iter] + G) / (2 * r)\n",
        "  for i in range(iter + 2, n):\n",
        "    w[i] = mat[i, iter] / (2 * r)\n",
        "  \n",
        "  W = w.reshape(n, 1) @ w.reshape(1, n)\n",
        "  print(\"\\nCon el vector w\\n\")\n",
        "  display(Matrix(w).evalf(5))\n",
        "  \n",
        "  p = np.eye(n) - 2 * W\n",
        "  print(\"\\nCon la matriz P\\n\")\n",
        "  display(Matrix(p).evalf(4))\n",
        "\n",
        "  temp = p @ mat @ p\n",
        "  return temp\n",
        "\n",
        "#Inicializamos la matriz y aplicamos el método\n",
        "n = 4\n",
        "\n",
        "mat = np.array([[-2, 3, 1, -1],\n",
        "                [3, 4, 2, 5],\n",
        "                [1, 2, 1, 3],\n",
        "                [-1, 5, 3, -4]])\n",
        "\n",
        "mat_temp = mat.copy()\n",
        "for i in range(n-2):\n",
        "  mat_temp = hausholder(mat_temp.copy(), n, i)\n",
        "  input(\"Presione enter para continuar...\")\n",
        "  output.clear()\n",
        "\n",
        "print(f\"La matriz tridiagonal resultante A en la iteración {n-1}\")\n",
        "Matrix(mat_temp).evalf(4)"
      ],
      "execution_count": 2,
      "outputs": [
        {
          "output_type": "stream",
          "name": "stdout",
          "text": [
            "La matriz tridiagonal resultante A en la iteración 3\n"
          ]
        },
        {
          "output_type": "execute_result",
          "data": {
            "text/latex": "$\\displaystyle \\left[\\begin{matrix}-2.0 & -3.317 & -4.973 \\cdot 10^{-18} & -5.529 \\cdot 10^{-17}\\\\-3.317 & 0.8182 & 7.221 & -4.892 \\cdot 10^{-16}\\\\-4.973 \\cdot 10^{-18} & 7.221 & 0.194 & 1.413\\\\-5.529 \\cdot 10^{-17} & -4.892 \\cdot 10^{-16} & 1.413 & -0.0122\\end{matrix}\\right]$",
            "text/plain": [
              "Matrix([\n",
              "[      -2.0,     -3.317, -4.973e-18, -5.529e-17],\n",
              "[    -3.317,     0.8182,      7.221, -4.892e-16],\n",
              "[-4.973e-18,      7.221,      0.194,      1.413],\n",
              "[-5.529e-17, -4.892e-16,      1.413,    -0.0122]])"
            ]
          },
          "metadata": {},
          "execution_count": 2
        }
      ]
    },
    {
      "cell_type": "markdown",
      "metadata": {
        "id": "IwPHvHNvd4u5"
      },
      "source": [
        "## [Regresar al ínidce](https://github.com/neto-riga/Metodos_Numericos/blob/main/Portafolio.md#índice)"
      ]
    }
  ]
}