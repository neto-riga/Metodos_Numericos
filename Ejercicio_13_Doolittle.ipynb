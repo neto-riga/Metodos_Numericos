{
  "nbformat": 4,
  "nbformat_minor": 0,
  "metadata": {
    "colab": {
      "name": "Ejercicio_13 Doolittle.ipynb",
      "provenance": [],
      "collapsed_sections": [],
      "include_colab_link": true
    },
    "kernelspec": {
      "name": "python3",
      "display_name": "Python 3"
    },
    "language_info": {
      "name": "python"
    }
  },
  "cells": [
    {
      "cell_type": "markdown",
      "metadata": {
        "id": "view-in-github",
        "colab_type": "text"
      },
      "source": [
        "<a href=\"https://colab.research.google.com/github/neto-riga/Metodos_Numericos/blob/main/Ejercicio_13_Doolittle.ipynb\" target=\"_parent\"><img src=\"https://colab.research.google.com/assets/colab-badge.svg\" alt=\"Open In Colab\"/></a>"
      ]
    },
    {
      "cell_type": "markdown",
      "metadata": {
        "id": "iJJrLfS5B2Po"
      },
      "source": [
        "#Método de Doolittle\n",
        "-----\n",
        "Martínez Venegas Raúl \\\\\n",
        "Rivera Gálvez Ernesto  "
      ]
    },
    {
      "cell_type": "markdown",
      "metadata": {
        "id": "j7TZ7NbpSdnV"
      },
      "source": [
        "## [Regresar al ínidce](https://github.com/neto-riga/Metodos_Numericos/blob/main/Portafolio.md#índice)"
      ]
    },
    {
      "cell_type": "markdown",
      "metadata": {
        "id": "lMzfA1FpCIax"
      },
      "source": [
        "Resolver el siguiente sistema de ecuaciones empleando la factorización de Doolitlle.\n",
        "$$\\begin{bmatrix}\n",
        "10& -2&  3& -1\\\\\n",
        " 2&  6& -2& -1\\\\\n",
        " 1& -1&  5& -1\\\\\n",
        "-1&  2& -1&  8\n",
        "\\end{bmatrix}\n",
        "\\begin{bmatrix}\n",
        "x_{1}\\\\\n",
        "x_{2}\\\\\n",
        "x_{3}\\\\\n",
        "x_{4}\n",
        "\\end{bmatrix}\n",
        "=\\begin{bmatrix}\n",
        "29\\\\\n",
        "6\\\\\n",
        "18\\\\\n",
        "-19\n",
        "\\end{bmatrix}, \n",
        "\\begin{bmatrix}\n",
        "-2\\\\\n",
        "7\\\\\n",
        "15\\\\\n",
        "-22\n",
        "\\end{bmatrix}$$"
      ]
    },
    {
      "cell_type": "code",
      "metadata": {
        "id": "WQDAp6YGA9y_"
      },
      "source": [
        "import numpy as np\n",
        "from sympy import*"
      ],
      "execution_count": null,
      "outputs": []
    },
    {
      "cell_type": "markdown",
      "metadata": {
        "id": "KNSetDp_D4Fl"
      },
      "source": [
        "Inicializamos la matriz $M$ sobre la que vamos a trabajar y la matriz $Upper$ como $U$ con ceros, mientras que la matriz $Lower$ como $L$ como la matriz identidad de dimensiones $nxn$ con $n=4$."
      ]
    },
    {
      "cell_type": "code",
      "metadata": {
        "id": "mxn6bdIqCJp9"
      },
      "source": [
        "n = 4\n",
        "M = np.zeros((n, n))\n",
        "L = np.eye(n)\n",
        "U = np.zeros((n, n))"
      ],
      "execution_count": null,
      "outputs": []
    },
    {
      "cell_type": "markdown",
      "metadata": {
        "id": "-ZkWrQEFExK_"
      },
      "source": [
        "Damos los valores deseados a $M$ e inicializamos los vectores $b_{1}$ y $b_{2}$."
      ]
    },
    {
      "cell_type": "code",
      "metadata": {
        "id": "nA7C1Uj9ClB1"
      },
      "source": [
        "M[0] = [10, -2, 3, -1]\n",
        "M[1] = [2, 6, -2, -1]\n",
        "M[2] = [1, -1, 5, -1]\n",
        "M[3] = [-1, 2, -1, 8]\n",
        "b1 = np.array([29, 6, 18, -19]).reshape(n,1)\n",
        "b2 = np.array([-2, 7, 15, -22]).reshape(n,1)"
      ],
      "execution_count": null,
      "outputs": []
    },
    {
      "cell_type": "markdown",
      "metadata": {
        "id": "06gx2GcoFVqQ"
      },
      "source": [
        "Definimos las funciones \"cambioU\" y \"cambioL\" que realizaran los cambios sombre las matrices $Upper$ y $Lower$ respectivamente."
      ]
    },
    {
      "cell_type": "code",
      "metadata": {
        "id": "Y9Pt9dAODy4p"
      },
      "source": [
        "def cambioU(m, l, u, iter):\n",
        "  for i in range(iter, n):\n",
        "    u[iter, i] = m[iter, i]\n",
        "    for j in range(iter):\n",
        "      u[iter, i] -= l[iter, j] * m[j, i]"
      ],
      "execution_count": null,
      "outputs": []
    },
    {
      "cell_type": "code",
      "metadata": {
        "id": "2KskkT_wJIAp"
      },
      "source": [
        "def cambioL(m, l, u, iter):\n",
        "  for i in range(iter + 1, n):\n",
        "    l[i, iter] = m[i, iter]\n",
        "    for j in range(iter):\n",
        "      l[i, iter] -= l[i, j] * m[j, iter]\n",
        "\n",
        "    l[i, iter] /= u[iter, iter]"
      ],
      "execution_count": null,
      "outputs": []
    },
    {
      "cell_type": "markdown",
      "metadata": {
        "id": "A-GWvc36GR2v"
      },
      "source": [
        "Aplicamos el método."
      ]
    },
    {
      "cell_type": "code",
      "metadata": {
        "id": "IZmkfloKQHZt"
      },
      "source": [
        "for i in range(n):\n",
        "  cambioU(M, L, U, i)\n",
        "  if i != (n-1):\n",
        "    cambioL(M, L, U, i)"
      ],
      "execution_count": null,
      "outputs": []
    },
    {
      "cell_type": "markdown",
      "metadata": {
        "id": "WOewinPVGV_4"
      },
      "source": [
        "Tenemos como resultado la matriz $U$:"
      ]
    },
    {
      "cell_type": "code",
      "metadata": {
        "colab": {
          "base_uri": "https://localhost:8080/",
          "height": 98
        },
        "id": "FCdc7h1zGhtQ",
        "outputId": "51c5e16f-ae45-439b-f831-6f99813fc7b2"
      },
      "source": [
        "Up=Matrix(U)\n",
        "Up.evalf(3)"
      ],
      "execution_count": null,
      "outputs": [
        {
          "output_type": "execute_result",
          "data": {
            "text/latex": "$\\displaystyle \\left[\\begin{matrix}10.0 & -2.0 & 3.0 & -1.0\\\\0 & 6.4 & -2.6 & -0.8\\\\0 & 0 & 4.45 & -1.02\\\\0 & 0 & 0 & 8.15\\end{matrix}\\right]$",
            "text/plain": [
              "Matrix([\n",
              "[10.0, -2.0,  3.0,  -1.0],\n",
              "[   0,  6.4, -2.6,  -0.8],\n",
              "[   0,    0, 4.45, -1.02],\n",
              "[   0,    0,    0,  8.15]])"
            ]
          },
          "metadata": {},
          "execution_count": 18
        }
      ]
    },
    {
      "cell_type": "markdown",
      "metadata": {
        "id": "JDuAzvlWGuQi"
      },
      "source": [
        "En cuanto a la matriz $L$:"
      ]
    },
    {
      "cell_type": "code",
      "metadata": {
        "colab": {
          "base_uri": "https://localhost:8080/",
          "height": 98
        },
        "id": "DUwJtIneGzts",
        "outputId": "d0726db4-769c-43d3-cb0b-0a6d5ff699c5"
      },
      "source": [
        "Low=Matrix(L)\n",
        "Low.evalf(3)"
      ],
      "execution_count": null,
      "outputs": [
        {
          "output_type": "execute_result",
          "data": {
            "text/latex": "$\\displaystyle \\left[\\begin{matrix}1.0 & 0 & 0 & 0\\\\0.2 & 1.0 & 0 & 0\\\\0.1 & -0.125 & 1.0 & 0\\\\-0.1 & 0.281 & -0.0309 & 1.0\\end{matrix}\\right]$",
            "text/plain": [
              "Matrix([\n",
              "[ 1.0,      0,       0,   0],\n",
              "[ 0.2,    1.0,       0,   0],\n",
              "[ 0.1, -0.125,     1.0,   0],\n",
              "[-0.1,  0.281, -0.0309, 1.0]])"
            ]
          },
          "metadata": {},
          "execution_count": 19
        }
      ]
    },
    {
      "cell_type": "markdown",
      "metadata": {
        "id": "VV0gN1eQG-hI"
      },
      "source": [
        "Inicializamos los vectores solución con ceros."
      ]
    },
    {
      "cell_type": "code",
      "metadata": {
        "id": "7nAfAvXuX5N8"
      },
      "source": [
        "z = np.zeros((n, 1))\n",
        "t = np.zeros((n, 1))"
      ],
      "execution_count": null,
      "outputs": []
    },
    {
      "cell_type": "markdown",
      "metadata": {
        "id": "1V4p8DN0HTFd"
      },
      "source": [
        "Realizamos sustitución hacia delante del $1^{er}$ vector $b$ obteniendo:"
      ]
    },
    {
      "cell_type": "code",
      "metadata": {
        "id": "Lb118eqMa540"
      },
      "source": [
        "for i in range(n):\n",
        "  z[i, 0] = b1[i, 0]\n",
        "  for j in range(i):\n",
        "    z[i, 0] -= z[j, 0] * L[i, j]"
      ],
      "execution_count": null,
      "outputs": []
    },
    {
      "cell_type": "code",
      "metadata": {
        "colab": {
          "base_uri": "https://localhost:8080/",
          "height": 98
        },
        "id": "_fHSJvYAHxSq",
        "outputId": "831ea36c-e89b-49f9-b1ca-a09f700e2131"
      },
      "source": [
        "Z = Matrix(z)\n",
        "Z.evalf(3)"
      ],
      "execution_count": null,
      "outputs": [
        {
          "output_type": "execute_result",
          "data": {
            "text/latex": "$\\displaystyle \\left[\\begin{matrix}29.0\\\\0.2\\\\15.1\\\\-15.7\\end{matrix}\\right]$",
            "text/plain": [
              "Matrix([\n",
              "[ 29.0],\n",
              "[  0.2],\n",
              "[ 15.1],\n",
              "[-15.7]])"
            ]
          },
          "metadata": {},
          "execution_count": 40
        }
      ]
    },
    {
      "cell_type": "markdown",
      "metadata": {
        "id": "aj1SkxqyIIg_"
      },
      "source": [
        "Ahora, sustitución hacia atrás: "
      ]
    },
    {
      "cell_type": "code",
      "metadata": {
        "id": "Fkr-uLPtcWYW"
      },
      "source": [
        "for i in range(1, n+1):\n",
        "  t[-i, 0] = z[-i, 0]\n",
        "  for j in range(i-1):\n",
        "    t[-i, 0] -= t[-j-1, 0] * U[-i, -j-1]\n",
        "  t[-i, 0] /= U[-i, -i]"
      ],
      "execution_count": null,
      "outputs": []
    },
    {
      "cell_type": "markdown",
      "metadata": {
        "id": "uiv6-bQoIR8_"
      },
      "source": [
        "Por lo tanto, obtenemos como solución del $1^{er}$ vector $b$:"
      ]
    },
    {
      "cell_type": "code",
      "metadata": {
        "colab": {
          "base_uri": "https://localhost:8080/",
          "height": 98
        },
        "id": "GGS6LNX8Iaja",
        "outputId": "d05c9b18-50db-4af3-a58c-83b0eefbbfec"
      },
      "source": [
        "T = Matrix(t)\n",
        "T.evalf(3)"
      ],
      "execution_count": null,
      "outputs": [
        {
          "output_type": "execute_result",
          "data": {
            "text/latex": "$\\displaystyle \\left[\\begin{matrix}2.02\\\\0.991\\\\2.96\\\\-1.93\\end{matrix}\\right]$",
            "text/plain": [
              "Matrix([\n",
              "[ 2.02],\n",
              "[0.991],\n",
              "[ 2.96],\n",
              "[-1.93]])"
            ]
          },
          "metadata": {},
          "execution_count": 42
        }
      ]
    },
    {
      "cell_type": "markdown",
      "metadata": {
        "id": "M2DnHgpxIkdG"
      },
      "source": [
        "Sustitución hacia delante $2^{o}$ vector $b$"
      ]
    },
    {
      "cell_type": "code",
      "metadata": {
        "id": "OhWTnHlylM63"
      },
      "source": [
        "for i in range(n):\n",
        "  z[i, 0] = b2[i, 0]\n",
        "  for j in range(i):\n",
        "    z[i, 0] -= z[j, 0] * L[i, j]"
      ],
      "execution_count": null,
      "outputs": []
    },
    {
      "cell_type": "code",
      "metadata": {
        "colab": {
          "base_uri": "https://localhost:8080/",
          "height": 98
        },
        "id": "ma-WKbGjI57M",
        "outputId": "37881fa0-fa2e-4919-dd0b-763ad347ea98"
      },
      "source": [
        "Z = Matrix(z)\n",
        "Z.evalf(3)"
      ],
      "execution_count": null,
      "outputs": [
        {
          "output_type": "execute_result",
          "data": {
            "text/latex": "$\\displaystyle \\left[\\begin{matrix}-2.0\\\\7.4\\\\16.1\\\\-23.8\\end{matrix}\\right]$",
            "text/plain": [
              "Matrix([\n",
              "[ -2.0],\n",
              "[  7.4],\n",
              "[ 16.1],\n",
              "[-23.8]])"
            ]
          },
          "metadata": {},
          "execution_count": 44
        }
      ]
    },
    {
      "cell_type": "markdown",
      "metadata": {
        "id": "95qi-8PEJFkv"
      },
      "source": [
        "Sustitución hacia atrás del $2^{o}$ vector $b$."
      ]
    },
    {
      "cell_type": "code",
      "metadata": {
        "id": "-0uPuhailUcv"
      },
      "source": [
        "for i in range(1, n+1):\n",
        "  t[-i, 0] = z[-i, 0]\n",
        "  for j in range(i-1):\n",
        "    t[-i, 0] -= t[-j-1, 0] * U[-i, -j-1]\n",
        "  t[-i, 0] /= U[-i, -i]"
      ],
      "execution_count": null,
      "outputs": []
    },
    {
      "cell_type": "markdown",
      "metadata": {
        "id": "4jf02NKSJM5H"
      },
      "source": [
        "Obteniendo como resultado:"
      ]
    },
    {
      "cell_type": "code",
      "metadata": {
        "colab": {
          "base_uri": "https://localhost:8080/",
          "height": 98
        },
        "id": "2ley3Ng8JQNA",
        "outputId": "836cabe4-36c3-402a-cae8-7a2f69ce6f76"
      },
      "source": [
        "T=Matrix(t)\n",
        "T.evalf(3)"
      ],
      "execution_count": null,
      "outputs": [
        {
          "output_type": "execute_result",
          "data": {
            "text/latex": "$\\displaystyle \\left[\\begin{matrix}-0.979\\\\1.99\\\\2.95\\\\-2.92\\end{matrix}\\right]$",
            "text/plain": [
              "Matrix([\n",
              "[-0.979],\n",
              "[  1.99],\n",
              "[  2.95],\n",
              "[ -2.92]])"
            ]
          },
          "metadata": {},
          "execution_count": 47
        }
      ]
    },
    {
      "cell_type": "markdown",
      "metadata": {
        "id": "ZHFhqGhhXvKH"
      },
      "source": [
        "## [Regresar al ínidce](https://github.com/neto-riga/Metodos_Numericos/blob/main/Portafolio.md#índice)"
      ]
    }
  ]
}