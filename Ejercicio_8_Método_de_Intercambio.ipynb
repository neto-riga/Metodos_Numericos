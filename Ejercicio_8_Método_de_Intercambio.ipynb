{
  "nbformat": 4,
  "nbformat_minor": 0,
  "metadata": {
    "colab": {
      "name": "Ejercicio 8 Método de Intercambio.ipynb",
      "provenance": [],
      "collapsed_sections": [],
      "include_colab_link": true
    },
    "kernelspec": {
      "name": "python3",
      "display_name": "Python 3"
    },
    "language_info": {
      "name": "python"
    }
  },
  "cells": [
    {
      "cell_type": "markdown",
      "metadata": {
        "id": "view-in-github",
        "colab_type": "text"
      },
      "source": [
        "<a href=\"https://colab.research.google.com/github/neto-riga/Metodos_Numericos/blob/main/Ejercicio_8_M%C3%A9todo_de_Intercambio.ipynb\" target=\"_parent\"><img src=\"https://colab.research.google.com/assets/colab-badge.svg\" alt=\"Open In Colab\"/></a>"
      ]
    },
    {
      "cell_type": "markdown",
      "metadata": {
        "id": "N5GC4Vh1_56L"
      },
      "source": [
        "# Método de intercambio\n",
        "#### Martínez Venegas Raúl\n",
        "#### Rivera Gálvez Ernesto\n",
        "---"
      ]
    },
    {
      "cell_type": "markdown",
      "metadata": {
        "id": "oYftrM37AE2T"
      },
      "source": [
        "Obtener la inversa de la siguiente matriz por el método de intercambio. \n",
        "$$\n",
        "\\begin{bmatrix}\n",
        "4 &3  &-2 &1 \\\\\n",
        "1 &-3 &0  &-1 \\\\\n",
        "2 &1  &3  &-2 \\\\\n",
        "2 &-2 &3  &-3\n",
        "\\end{bmatrix}\n",
        "$$\n"
      ]
    },
    {
      "cell_type": "code",
      "metadata": {
        "id": "1NolbB3hBuVo"
      },
      "source": [
        "import numpy as np\n",
        "from sympy import Matrix, init_printing\n",
        "init_printing()"
      ],
      "execution_count": null,
      "outputs": []
    },
    {
      "cell_type": "markdown",
      "metadata": {
        "id": "8W1q7G09BpaZ"
      },
      "source": [
        "Para comenzar, inicializamos nuestra matriz y colocamos un par de listas que nos ayudaran a saber sobre que $x_{n}$ y $b_{n}$ hemos trabajado y más adelante ordenaremos."
      ]
    },
    {
      "cell_type": "code",
      "metadata": {
        "id": "3O2S2oXkB4jl"
      },
      "source": [
        "A = np.zeros((4,4))\n",
        "A[0] = [4, 3, -2, 1]\n",
        "A[1] = [1, -3, 0, -1]\n",
        "A[2] = [2, 1, 3, -2]\n",
        "A[3] = [2, -2, 3, -3]\n",
        "fila = []\n",
        "columna = []"
      ],
      "execution_count": null,
      "outputs": []
    },
    {
      "cell_type": "markdown",
      "metadata": {
        "id": "RlFs1gvJCPwk"
      },
      "source": [
        "Tenemos una matriz de $n \\times n$, por lo tanto, realizaremos el proceso del método de intercambio $n - 1$ veces para después poder identificar cual eson las últimas $x_{n}$ y $b_{n}$ que debemos intercambiar. "
      ]
    },
    {
      "cell_type": "code",
      "metadata": {
        "id": "sSlbGRckKnit",
        "colab": {
          "base_uri": "https://localhost:8080/"
        },
        "outputId": "c86c2925-f86e-4376-a1dc-9e922f3048a7"
      },
      "source": [
        "for iter in range(len(A) - 1):\n",
        "  mayor = 0\n",
        "  for fila_ in A:\n",
        "    for elemento in fila_:\n",
        "      if abs(mayor) < abs(elemento): \n",
        "        mayor = elemento\n",
        "  loc = np.where(A == mayor)\n",
        "  fila.append(loc[0][0])\n",
        "  columna.append(loc[1][0])\n",
        "\n",
        "  for i in range(len(A)):\n",
        "    if i != columna[iter]: A[fila[iter], i] = A[fila[iter], i] / (- mayor)\n",
        "\n",
        "  for i in range(len(A)):\n",
        "    k = A[i, columna[iter]]\n",
        "    for j in range(len(A)):\n",
        "      if j != columna[iter] and i != fila[iter]:\n",
        "        A[i,j] += k * A[fila[iter], j]\n",
        "\n",
        "  for i in range(len(A)):\n",
        "    if i == fila[iter]:\n",
        "      A[i, columna[iter]] = 1 / mayor\n",
        "    else:\n",
        "      A[i, columna[iter]] /= mayor\n",
        "  print(f\"Iteracion {iter+1}, pivote: {mayor :.3f}\\n{A}\\n\")"
      ],
      "execution_count": null,
      "outputs": [
        {
          "output_type": "stream",
          "name": "stdout",
          "text": [
            "Iteracion 1, pivote: 4.000\n",
            "[[ 0.25 -0.75  0.5  -0.25]\n",
            " [ 0.25 -3.75  0.5  -1.25]\n",
            " [ 0.5  -0.5   4.   -2.5 ]\n",
            " [ 0.5  -3.5   4.   -3.5 ]]\n",
            "\n",
            "Iteracion 2, pivote: 4.000\n",
            "[[ 0.1875 -0.6875  0.125   0.0625]\n",
            " [ 0.1875 -3.6875  0.125  -0.9375]\n",
            " [-0.125   0.125   0.25    0.625 ]\n",
            " [ 0.     -3.      1.     -1.    ]]\n",
            "\n",
            "Iteracion 3, pivote: -3.688\n",
            "[[ 0.15254237  0.18644068  0.10169492  0.23728814]\n",
            " [ 0.05084746 -0.27118644  0.03389831 -0.25423729]\n",
            " [-0.11864407 -0.03389831  0.25423729  0.59322034]\n",
            " [-0.15254237  0.81355932  0.89830508 -0.23728814]]\n",
            "\n"
          ]
        }
      ]
    },
    {
      "cell_type": "markdown",
      "metadata": {
        "id": "aHm8q7xZD4V6"
      },
      "source": [
        "Una vez hemos realizado el proceso $n - 1$ veces (en este caso tres veces), identificamos la fila y columna que no hemos cambiado y realizamos el método en dicha $x_{n}$ y $b_{n}$ como pivote sin importar si es el mayor o no. "
      ]
    },
    {
      "cell_type": "code",
      "metadata": {
        "id": "czR3VecWDmet",
        "colab": {
          "base_uri": "https://localhost:8080/",
          "height": 99
        },
        "outputId": "23c92268-2217-4fbd-970c-64f16a8773b2"
      },
      "source": [
        "for i in range(len(A)):\n",
        "  for j in range(len(A)):\n",
        "    if i not in fila and j not in columna:\n",
        "      mayor = A[i,j]\n",
        "\n",
        "iter +=1\n",
        "\n",
        "loc = np.where(A == mayor)\n",
        "fila.append(loc[0][0])\n",
        "columna.append(loc[1][0])\n",
        "\n",
        "for i in range(len(A)):\n",
        "  if i != columna[iter]:\n",
        "    A[fila[iter], i] = A[fila[iter], i] / (- mayor)\n",
        "\n",
        "for i in range(len(A)):\n",
        "  k = A[i, columna[iter]]\n",
        "  for j in range(len(A)):\n",
        "    if j != columna[iter] and i != fila[iter]:\n",
        "      A[i,j] += k * A[fila[iter], j]\n",
        "\n",
        "for i in range(len(A)):\n",
        "  if i == fila[iter]:\n",
        "    A[i, columna[iter]] = 1 / mayor\n",
        "  else:\n",
        "    A[i, columna[iter]] /= mayor\n",
        "\n",
        "T = Matrix(A)\n",
        "T.evalf(5)"
      ],
      "execution_count": null,
      "outputs": [
        {
          "output_type": "execute_result",
          "data": {
            "text/latex": "$\\displaystyle \\left[\\begin{matrix}0 & 1.0 & 1.0 & -1.0\\\\0.21429 & -1.1429 & -0.92857 & 1.0714\\\\-0.5 & 2.0 & 2.5 & -2.5\\\\-0.64286 & 3.4286 & 3.7857 & -4.2143\\end{matrix}\\right]$",
            "text/plain": [
              "⎡   0        1.0      1.0      -1.0  ⎤\n",
              "⎢                                    ⎥\n",
              "⎢0.21429   -1.1429  -0.92857  1.0714 ⎥\n",
              "⎢                                    ⎥\n",
              "⎢  -0.5      2.0      2.5      -2.5  ⎥\n",
              "⎢                                    ⎥\n",
              "⎣-0.64286  3.4286    3.7857   -4.2143⎦"
            ]
          },
          "metadata": {},
          "execution_count": 4
        }
      ]
    },
    {
      "cell_type": "markdown",
      "metadata": {
        "id": "LPxmXZkGVI2a"
      },
      "source": [
        "Finalmente, cambiamos el orden de las filas y columnas al orden inicial."
      ]
    },
    {
      "cell_type": "code",
      "metadata": {
        "id": "lpoNHsOZMBdt",
        "colab": {
          "base_uri": "https://localhost:8080/",
          "height": 117
        },
        "outputId": "10ba27b7-26f5-4e90-d081-1988674437ef"
      },
      "source": [
        "for i in range(len(A)):\n",
        "  cambio = fila.index(i)\n",
        "  A[[i, cambio]] = A[[cambio, i]]\n",
        "  A[:, [i, cambio]] = A[:, [cambio, i]]\n",
        "\n",
        "print(\"Matriz inverza\")\n",
        "T = Matrix (A)\n",
        "T.evalf(5)"
      ],
      "execution_count": null,
      "outputs": [
        {
          "output_type": "stream",
          "name": "stdout",
          "text": [
            "Matriz inverza\n"
          ]
        },
        {
          "output_type": "execute_result",
          "data": {
            "text/latex": "$\\displaystyle \\left[\\begin{matrix}0 & 1.0 & 1.0 & -1.0\\\\0.21429 & -1.1429 & -0.92857 & 1.0714\\\\-0.5 & 2.0 & 2.5 & -2.5\\\\-0.64286 & 3.4286 & 3.7857 & -4.2143\\end{matrix}\\right]$",
            "text/plain": [
              "⎡   0        1.0      1.0      -1.0  ⎤\n",
              "⎢                                    ⎥\n",
              "⎢0.21429   -1.1429  -0.92857  1.0714 ⎥\n",
              "⎢                                    ⎥\n",
              "⎢  -0.5      2.0      2.5      -2.5  ⎥\n",
              "⎢                                    ⎥\n",
              "⎣-0.64286  3.4286    3.7857   -4.2143⎦"
            ]
          },
          "metadata": {},
          "execution_count": 5
        }
      ]
    }
  ]
}