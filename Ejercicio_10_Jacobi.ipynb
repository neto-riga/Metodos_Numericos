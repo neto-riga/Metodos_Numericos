{
  "nbformat": 4,
  "nbformat_minor": 0,
  "metadata": {
    "colab": {
      "name": "Ejercicio_10_Jacobi.ipynb",
      "provenance": [],
      "collapsed_sections": [],
      "include_colab_link": true
    },
    "kernelspec": {
      "name": "python3",
      "display_name": "Python 3"
    },
    "language_info": {
      "name": "python"
    }
  },
  "cells": [
    {
      "cell_type": "markdown",
      "metadata": {
        "id": "view-in-github",
        "colab_type": "text"
      },
      "source": [
        "<a href=\"https://colab.research.google.com/github/neto-riga/Metodos_Numericos/blob/main/Ejercicio_10_Jacobi.ipynb\" target=\"_parent\"><img src=\"https://colab.research.google.com/assets/colab-badge.svg\" alt=\"Open In Colab\"/></a>"
      ]
    },
    {
      "cell_type": "markdown",
      "metadata": {
        "id": "POaudnpJXD7h"
      },
      "source": [
        "## [Regresar al ínidce](https://github.com/neto-riga/Metodos_Numericos/blob/main/Portafolio.md#índice)"
      ]
    },
    {
      "cell_type": "markdown",
      "metadata": {
        "id": "WHqESK9XZkMr"
      },
      "source": [
        "# Método de Jacobi\n",
        "#### Martínez Venegas Raúl\n",
        "#### Rivera Gálvez Ernesto\n",
        "---\n",
        "\n",
        "\n"
      ]
    },
    {
      "cell_type": "markdown",
      "metadata": {
        "id": "X0NbGdhxZ5JA"
      },
      "source": [
        "Sea el siguiente sistema de ecuaciones:\n",
        "\n",
        "\n",
        "$$\\begin{eqnarray}\n",
        "2x_{1} - x_{2} + 10x_{3} - x_{4} &=& 45 \\\\ -x_{1} + 8x_{2} - x_{3} + 3x_{4} &=& 15 \\\\ 2x_{1} + 3x_{2} - x_{3} + 8x_{4} &=& -39 \\\\ 9x_{1} - x_{2} + 2x_{3} - 2x_{4} &=& -11\n",
        "\\end{eqnarray}$$\n",
        "\n",
        "* Verificar que la matriz sea EDD, sino reordenar los renglones.\n",
        "* Tomar como vector inicial el vector de ceros.\n",
        "* Realizar 10 iteraciones.\n",
        "* Calcular el error con las cinco últimas iteraciones.\n",
        "\n"
      ]
    },
    {
      "cell_type": "markdown",
      "metadata": {
        "id": "iQs3WUHVcupH"
      },
      "source": [
        "Por lo tanto, obtenemos las siguientes matrices:\n",
        "\n",
        "$$A = \\begin{bmatrix}\n",
        " 2& -1& 10& -1\\\\\n",
        "-1&  8& -1& 3\\\\\n",
        " 2&  3& -1& 8\\\\\n",
        " 9& -1&  2& -2\n",
        "\\end{bmatrix}\n",
        "b = \\begin{bmatrix}\n",
        " 45\\\\\n",
        " 15\\\\\n",
        "-39\\\\\n",
        "-11\n",
        "\\end{bmatrix}\n",
        "$$"
      ]
    },
    {
      "cell_type": "code",
      "metadata": {
        "id": "8y1bVgkGR_Ag"
      },
      "source": [
        "import numpy as np\n",
        "import matplotlib.pyplot as plt\n",
        "import pandas as pd\n",
        "from sympy import*"
      ],
      "execution_count": null,
      "outputs": []
    },
    {
      "cell_type": "code",
      "metadata": {
        "id": "tHeTQcKMS3la"
      },
      "source": [
        "def printmat(m, x, b):\n",
        "  print(\" X\\t\\t\", \"\\t\"*int(n/2), 'A', '\\t'*int(n/2 + n%2), 'B')\n",
        "  for i in range(n):\n",
        "    print(f'{x[i][0]:.4g}\\t|', end='\\t')\n",
        "    for j in range(n):\n",
        "      print(f'{m[i,j]:.4g}', end='\\t')\n",
        "    print(f'|{b[i][0]:.4g}')"
      ],
      "execution_count": null,
      "outputs": []
    },
    {
      "cell_type": "markdown",
      "metadata": {
        "id": "-mkANqNZfv6T"
      },
      "source": [
        "Inicializamos arreglos con las dimenciones deseadas, en este caso, de $4$x$4$, después, los llenamos con los valores de nuestra matriz $A$ y $b$"
      ]
    },
    {
      "cell_type": "code",
      "metadata": {
        "id": "MN_Rb5QpSfdi"
      },
      "source": [
        "n = 4\n",
        "mat = np.eye(n)\n",
        "x_prev = np.zeros(n).reshape(n,1)\n",
        "x_sig = x_prev.copy()\n",
        "x_sol = x_prev.copy()\n",
        "b = np.zeros(n).reshape(n,1)\n",
        "mat[0]= [2,-1,10,-1]\n",
        "b[0] = 45\n",
        "mat[1] = [-1,8,-1,3]\n",
        "b[1] = 15\n",
        "mat[2]=[2,3,-1,8]\n",
        "b[2] = -39\n",
        "mat[3]=[9,-1,2,-2]\n",
        "b[3] = -11"
      ],
      "execution_count": null,
      "outputs": []
    },
    {
      "cell_type": "markdown",
      "metadata": {
        "id": "_ChqZKYQgnbD"
      },
      "source": [
        "Realizamos el cambio de columnas de ser necesario para obtener una matriz EDD y mostramos el resultado una vez realizados dichos cambios, además de aplicar el método."
      ]
    },
    {
      "cell_type": "code",
      "metadata": {
        "colab": {
          "base_uri": "https://localhost:8080/"
        },
        "id": "rAjI37kzVKgc",
        "outputId": "74e0d1ae-065b-4c67-987e-1f5717279781"
      },
      "source": [
        "mayor = {\n",
        "    'valor': 0,\n",
        "    'columna': 0\n",
        "  }\n",
        "cam_x=[]\n",
        "cam_p=[]\n",
        "for i in range(n):\n",
        "  mayor['valor'] = 0\n",
        "  for k in range(n):\n",
        "    if abs(mat[i,k]) > abs(mayor.get('valor')): # Encuentra el mayor elemento\n",
        "      mayor['valor'] = mat[i,k] # Guarda el valor del elemento\n",
        "      mayor['columna'] = k # Guarda la columna en la que se encuentra\n",
        "  if abs(mayor['valor']) != abs(mat[i,i]): # Si el i,i no es el mayor\n",
        "    mat[:,[k, mayor.get('columna')]] = mat[:,[mayor.get('columna'), k]] # intercambiar las columnas\n",
        "    cam_x.append(mayor.get('columna'))\n",
        "    cam_p.append(k)\n",
        "for i in range(n):\n",
        "  suma_resto = 0\n",
        "  for j in range(n):\n",
        "    if j != i:\n",
        "      suma_resto += abs(mat[i, j])\n",
        "  if abs(mat[i, i]) < suma_resto:\n",
        "    raise ValueError(\"Su matriz no es EDD\")\n",
        "print(\"Matriz EDD\")\n",
        "printmat(mat,x_prev,b)\n",
        "\n",
        "x_frame = x_prev.copy()\n",
        "for iter in range(10):\n",
        "\n",
        "  for i in range(n):\n",
        "    x_sig[i] = b[i][0] / mat[i, i]\n",
        "    for j in range(n):\n",
        "      if j != i:\n",
        "        x_sig[i] -= mat[i,j] / mat[i, i] * x_prev[j][0]\n",
        "  x_sol = x_sig.copy()\n",
        "  for g in range(len(cam_x)):\n",
        "    x_sol[[cam_x[g-1], cam_p[g-1]]]=x_sol[[cam_p[g-1], cam_x[g-1]]]\n",
        "  x_frame = np.append(x_frame, x_sol.copy(), axis=1)\n",
        "  x_prev = x_sig.copy()\n",
        "\n"
      ],
      "execution_count": null,
      "outputs": [
        {
          "output_type": "stream",
          "name": "stdout",
          "text": [
            "Matriz EDD\n",
            " X\t\t \t\t A \t\t B\n",
            "0\t|\t10\t-1\t-1\t2\t|45\n",
            "0\t|\t-1\t8\t3\t-1\t|15\n",
            "0\t|\t-1\t3\t8\t2\t|-39\n",
            "0\t|\t2\t-1\t-2\t9\t|-11\n"
          ]
        }
      ]
    },
    {
      "cell_type": "markdown",
      "metadata": {
        "id": "f6rMZAz63x_e"
      },
      "source": [
        "La matriz impresa anteriormente es la matriz con el cambio de columnas para que sea EDD. A continuación se muestra el comportamiento de las soluciones en cada iteración."
      ]
    },
    {
      "cell_type": "code",
      "metadata": {
        "colab": {
          "base_uri": "https://localhost:8080/",
          "height": 193
        },
        "id": "1HGT5qLQNSqZ",
        "outputId": "8ec5989f-ec9f-4772-b5f4-e53fd4f067b0"
      },
      "source": [
        "nombres = [f'x{i}' for i in range(len(x_frame[0]))]\n",
        "X = pd.DataFrame(x_frame,\n",
        "                 columns=nombres)\n",
        "X"
      ],
      "execution_count": null,
      "outputs": [
        {
          "output_type": "execute_result",
          "data": {
            "text/html": [
              "<div>\n",
              "<style scoped>\n",
              "    .dataframe tbody tr th:only-of-type {\n",
              "        vertical-align: middle;\n",
              "    }\n",
              "\n",
              "    .dataframe tbody tr th {\n",
              "        vertical-align: top;\n",
              "    }\n",
              "\n",
              "    .dataframe thead th {\n",
              "        text-align: right;\n",
              "    }\n",
              "</style>\n",
              "<table border=\"1\" class=\"dataframe\">\n",
              "  <thead>\n",
              "    <tr style=\"text-align: right;\">\n",
              "      <th></th>\n",
              "      <th>x0</th>\n",
              "      <th>x1</th>\n",
              "      <th>x2</th>\n",
              "      <th>x3</th>\n",
              "      <th>x4</th>\n",
              "      <th>x5</th>\n",
              "      <th>x6</th>\n",
              "      <th>x7</th>\n",
              "      <th>x8</th>\n",
              "      <th>x9</th>\n",
              "      <th>x10</th>\n",
              "    </tr>\n",
              "  </thead>\n",
              "  <tbody>\n",
              "    <tr>\n",
              "      <th>0</th>\n",
              "      <td>0.0</td>\n",
              "      <td>-1.222222</td>\n",
              "      <td>-3.097222</td>\n",
              "      <td>-2.799576</td>\n",
              "      <td>-3.053853</td>\n",
              "      <td>-2.971278</td>\n",
              "      <td>-3.011707</td>\n",
              "      <td>-2.995090</td>\n",
              "      <td>-3.002204</td>\n",
              "      <td>-2.999103</td>\n",
              "      <td>-3.000402</td>\n",
              "    </tr>\n",
              "    <tr>\n",
              "      <th>1</th>\n",
              "      <td>0.0</td>\n",
              "      <td>1.875000</td>\n",
              "      <td>4.112847</td>\n",
              "      <td>3.809679</td>\n",
              "      <td>4.065315</td>\n",
              "      <td>3.974012</td>\n",
              "      <td>4.013429</td>\n",
              "      <td>3.995342</td>\n",
              "      <td>4.002411</td>\n",
              "      <td>3.999110</td>\n",
              "      <td>4.000427</td>\n",
              "    </tr>\n",
              "    <tr>\n",
              "      <th>2</th>\n",
              "      <td>0.0</td>\n",
              "      <td>4.500000</td>\n",
              "      <td>4.444444</td>\n",
              "      <td>5.059722</td>\n",
              "      <td>4.932137</td>\n",
              "      <td>5.020175</td>\n",
              "      <td>4.989706</td>\n",
              "      <td>5.004193</td>\n",
              "      <td>4.998213</td>\n",
              "      <td>5.000786</td>\n",
              "      <td>4.999674</td>\n",
              "    </tr>\n",
              "    <tr>\n",
              "      <th>3</th>\n",
              "      <td>0.0</td>\n",
              "      <td>-4.875000</td>\n",
              "      <td>-4.710069</td>\n",
              "      <td>-5.087457</td>\n",
              "      <td>-4.971270</td>\n",
              "      <td>-5.019512</td>\n",
              "      <td>-4.994913</td>\n",
              "      <td>-5.003396</td>\n",
              "      <td>-4.998957</td>\n",
              "      <td>-5.000577</td>\n",
              "      <td>-4.999792</td>\n",
              "    </tr>\n",
              "  </tbody>\n",
              "</table>\n",
              "</div>"
            ],
            "text/plain": [
              "    x0        x1        x2        x3  ...        x7        x8        x9       x10\n",
              "0  0.0 -1.222222 -3.097222 -2.799576  ... -2.995090 -3.002204 -2.999103 -3.000402\n",
              "1  0.0  1.875000  4.112847  3.809679  ...  3.995342  4.002411  3.999110  4.000427\n",
              "2  0.0  4.500000  4.444444  5.059722  ...  5.004193  4.998213  5.000786  4.999674\n",
              "3  0.0 -4.875000 -4.710069 -5.087457  ... -5.003396 -4.998957 -5.000577 -4.999792\n",
              "\n",
              "[4 rows x 11 columns]"
            ]
          },
          "metadata": {},
          "execution_count": 5
        }
      ]
    },
    {
      "cell_type": "markdown",
      "metadata": {
        "id": "oWJLstpc4u6D"
      },
      "source": [
        "Por lo tanto, el vector solución del sistema de ecuaciones es:"
      ]
    },
    {
      "cell_type": "code",
      "metadata": {
        "colab": {
          "base_uri": "https://localhost:8080/",
          "height": 98
        },
        "id": "0-bcJHca4fzw",
        "outputId": "51043e64-1fd8-4642-8057-51b25896673f"
      },
      "source": [
        "R = Matrix(x_sol)\n",
        "R.evalf(3)"
      ],
      "execution_count": null,
      "outputs": [
        {
          "output_type": "execute_result",
          "data": {
            "text/latex": "$\\displaystyle \\left[\\begin{matrix}-3.0\\\\4.0\\\\5.0\\\\-5.0\\end{matrix}\\right]$",
            "text/plain": [
              "Matrix([\n",
              "[-3.0],\n",
              "[ 4.0],\n",
              "[ 5.0],\n",
              "[-5.0]])"
            ]
          },
          "metadata": {},
          "execution_count": 8
        }
      ]
    },
    {
      "cell_type": "markdown",
      "metadata": {
        "id": "Rk0hA8pK6b4S"
      },
      "source": [
        "A conticuación se muestra el calculo del error de las últimas cinco iteraciones."
      ]
    },
    {
      "cell_type": "code",
      "metadata": {
        "colab": {
          "base_uri": "https://localhost:8080/",
          "height": 235
        },
        "id": "AYupFsj5O1VR",
        "outputId": "d87d3dc1-7cc5-4a0f-df32-38da29dc1b71"
      },
      "source": [
        "error = []\n",
        "for i in range(len(x_frame[0])-5,len(x_frame[0])):\n",
        "  error.append(x_frame[:, (i)] - x_frame[:,(i-1)])\n",
        "for i in range(5):\n",
        "  mayor = 0\n",
        "  for j in error[i]:\n",
        "    if abs(mayor)<abs(j):\n",
        "      mayor = j\n",
        "  error[i]= np.append(error[i], abs(mayor))\n",
        "nombres2 = [f'x{i} - x{i-1}' for i in range(len(x_frame[0])-5,len(x_frame[0]))]\n",
        "X1 = pd.DataFrame(error,\n",
        "                 columns=nombres2)\n",
        "inx = [f'{i+1}' for i in range(n)]\n",
        "inx.append('ɛ')\n",
        "X1['Valores'] = inx\n",
        "X1.set_index('Valores', inplace=True)\n",
        "X1"
      ],
      "execution_count": null,
      "outputs": [
        {
          "output_type": "execute_result",
          "data": {
            "text/html": [
              "<div>\n",
              "<style scoped>\n",
              "    .dataframe tbody tr th:only-of-type {\n",
              "        vertical-align: middle;\n",
              "    }\n",
              "\n",
              "    .dataframe tbody tr th {\n",
              "        vertical-align: top;\n",
              "    }\n",
              "\n",
              "    .dataframe thead th {\n",
              "        text-align: right;\n",
              "    }\n",
              "</style>\n",
              "<table border=\"1\" class=\"dataframe\">\n",
              "  <thead>\n",
              "    <tr style=\"text-align: right;\">\n",
              "      <th></th>\n",
              "      <th>x6 - x5</th>\n",
              "      <th>x7 - x6</th>\n",
              "      <th>x8 - x7</th>\n",
              "      <th>x9 - x8</th>\n",
              "      <th>x10 - x9</th>\n",
              "    </tr>\n",
              "    <tr>\n",
              "      <th>Valores</th>\n",
              "      <th></th>\n",
              "      <th></th>\n",
              "      <th></th>\n",
              "      <th></th>\n",
              "      <th></th>\n",
              "    </tr>\n",
              "  </thead>\n",
              "  <tbody>\n",
              "    <tr>\n",
              "      <th>1</th>\n",
              "      <td>-0.040429</td>\n",
              "      <td>0.039417</td>\n",
              "      <td>-0.030470</td>\n",
              "      <td>0.024599</td>\n",
              "      <td>0.040429</td>\n",
              "    </tr>\n",
              "    <tr>\n",
              "      <th>2</th>\n",
              "      <td>0.016617</td>\n",
              "      <td>-0.018087</td>\n",
              "      <td>0.014488</td>\n",
              "      <td>-0.008483</td>\n",
              "      <td>0.018087</td>\n",
              "    </tr>\n",
              "    <tr>\n",
              "      <th>3</th>\n",
              "      <td>-0.007114</td>\n",
              "      <td>0.007069</td>\n",
              "      <td>-0.005980</td>\n",
              "      <td>0.004439</td>\n",
              "      <td>0.007114</td>\n",
              "    </tr>\n",
              "    <tr>\n",
              "      <th>4</th>\n",
              "      <td>0.003101</td>\n",
              "      <td>-0.003302</td>\n",
              "      <td>0.002574</td>\n",
              "      <td>-0.001620</td>\n",
              "      <td>0.003302</td>\n",
              "    </tr>\n",
              "    <tr>\n",
              "      <th>ɛ</th>\n",
              "      <td>-0.001299</td>\n",
              "      <td>0.001317</td>\n",
              "      <td>-0.001112</td>\n",
              "      <td>0.000785</td>\n",
              "      <td>0.001317</td>\n",
              "    </tr>\n",
              "  </tbody>\n",
              "</table>\n",
              "</div>"
            ],
            "text/plain": [
              "          x6 - x5   x7 - x6   x8 - x7   x9 - x8  x10 - x9\n",
              "Valores                                                  \n",
              "1       -0.040429  0.039417 -0.030470  0.024599  0.040429\n",
              "2        0.016617 -0.018087  0.014488 -0.008483  0.018087\n",
              "3       -0.007114  0.007069 -0.005980  0.004439  0.007114\n",
              "4        0.003101 -0.003302  0.002574 -0.001620  0.003302\n",
              "ɛ       -0.001299  0.001317 -0.001112  0.000785  0.001317"
            ]
          },
          "metadata": {},
          "execution_count": 7
        }
      ]
    },
    {
      "cell_type": "markdown",
      "metadata": {
        "id": "hVTm2J6AXFdg"
      },
      "source": [
        "## [Regresar al ínidce](https://github.com/neto-riga/Metodos_Numericos/blob/main/Portafolio.md#índice)"
      ]
    }
  ]
}